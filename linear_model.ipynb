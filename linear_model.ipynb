{
 "metadata": {
  "language_info": {
   "codemirror_mode": {
    "name": "ipython",
    "version": 3
   },
   "file_extension": ".py",
   "mimetype": "text/x-python",
   "name": "python",
   "nbconvert_exporter": "python",
   "pygments_lexer": "ipython3",
   "version": "3.6.8-final"
  },
  "orig_nbformat": 2,
  "kernelspec": {
   "name": "julia-1.5",
   "display_name": "Julia 1.5.0",
   "language": "julia"
  }
 },
 "nbformat": 4,
 "nbformat_minor": 2,
 "cells": [
  {
   "cell_type": "code",
   "execution_count": 30,
   "metadata": {
    "tags": []
   },
   "outputs": [
    {
     "output_type": "execute_result",
     "data": {
      "text/plain": [
       "gclip! (generic function with 1 method)"
      ]
     },
     "metadata": {},
     "execution_count": 30
    }
   ],
   "source": [
    "using NiLang, NiLang.AD\n",
    "using LinearAlgebra\n",
    "using DelimitedFiles\n",
    "using Plots\n",
    "using Distributions\n",
    "using BenchmarkTools\n",
    "include(\"Adam.jl\")"
   ]
  },
  {
   "cell_type": "code",
   "execution_count": 2,
   "metadata": {},
   "outputs": [],
   "source": [
    "struct Linear{T}\n",
    "    W1::Matrix{T}\n",
    "    b1::Vector{T}\n",
    "    y1::Vector{T}\n",
    "    y1a::Vector{T}\n",
    "end\n",
    "NiLang.AD.GVar(x::Linear) = Linear(GVar(x.W1), GVar(x.b1),GVar(x.y1), GVar(x.y1a));"
   ]
  },
  {
   "cell_type": "code",
   "execution_count": 3,
   "metadata": {},
   "outputs": [],
   "source": [
    "\"\"\"Apply a single linear transformation.\"\"\"\n",
    "@i function linear_layer!(x::AbstractVector{T}, layer::Linear{T},y!::AbstractVector{T};method=\"relu\") where T\n",
    "    @routine @invcheckoff begin\n",
    "        i_affine!(layer.y1, layer.W1, layer.b1, x)\n",
    "        end\n",
    "    \n",
    "        @inbounds for i=1:length(layer.y1)\n",
    "            if (method==\"relu\", ~)\n",
    "                if (layer.y1[i] >= 0, ~)\n",
    "                    y![i] += layer.y1[i]\n",
    "                    layer.y1a[i] += layer.y1[i]\n",
    "                end\n",
    "            else\n",
    "                y![i] += tanh(layer.y1[i])\n",
    "                layer.y1a[i] +=  tanh(layer.y1[i])\n",
    "            end\n",
    "        end\n",
    "    ~@routine\n",
    "    ## clean up accumulated rounding error, since this memory is reused.\n",
    "    @safe layer.y1 .= zero(T)\n",
    "end"
   ]
  },
  {
   "cell_type": "code",
   "execution_count": 4,
   "metadata": {},
   "outputs": [],
   "source": [
    "\"\"\"Apply a single linear transformation.\"\"\"\n",
    "@i function linear_layer!(x::AbstractVector{T}, layer::Linear{T};method=\"relu\") where T\n",
    "    @routine @invcheckoff begin\n",
    "        i_affine!(layer.y1, layer.W1, layer.b1, x)\n",
    "        end\n",
    "    \n",
    "        @inbounds for i=1:length(layer.y1)\n",
    "            if (method==\"relu\", ~)\n",
    "                if (layer.y1[i] >= 0, ~)\n",
    "                    layer.y1a[i] += layer.y1[i]\n",
    "                end\n",
    "            else\n",
    "                layer.y1a[i] +=  tanh(layer.y1[i])\n",
    "            end\n",
    "        end\n",
    "    ~@routine\n",
    "    @safe layer.y1 .= zero(T)\n",
    "end"
   ]
  },
  {
   "cell_type": "code",
   "execution_count": 5,
   "metadata": {},
   "outputs": [
    {
     "output_type": "execute_result",
     "data": {
      "text/plain": [
       "Array{Linear{T},1} where T"
      ]
     },
     "metadata": {},
     "execution_count": 5
    }
   ],
   "source": [
    "const LinearNetwork{T} = Vector{Linear{T}}\n"
   ]
  },
  {
   "cell_type": "code",
   "execution_count": 6,
   "metadata": {},
   "outputs": [],
   "source": [
    "@i function Linear_network!(x!::AbstractVector{T}, network::LinearNetwork{T},y!::AbstractVector{T}) where T\n",
    "    @invcheckoff for i=1:length(network)\n",
    "        if (i==length(network), ~)\n",
    "            @inbounds linear_layer!(network[i-1].y1a, network[i], y!,method=\"tanh\")\n",
    "        else\n",
    "            if (i==1, ~)\n",
    "                @inbounds linear_layer!(x!, network[i],method=\"relu\")\n",
    "            else\n",
    "                @inbounds linear_layer!(network[i-1].y1a, network[i],method=\"relu\")\n",
    "            end\n",
    "        end\n",
    "    end\n",
    "end"
   ]
  },
  {
   "cell_type": "code",
   "execution_count": 7,
   "metadata": {},
   "outputs": [
    {
     "output_type": "execute_result",
     "data": {
      "text/plain": [
       "random_Linear_network (generic function with 1 method)"
      ]
     },
     "metadata": {},
     "execution_count": 7
    }
   ],
   "source": [
    "function random_Linear_network(nparams::Int, nhidden::Int)\n",
    "    random_Linear_network(Float64, nin, nhidden)\n",
    "end\n"
   ]
  },
  {
   "cell_type": "code",
   "execution_count": 8,
   "metadata": {},
   "outputs": [
    {
     "output_type": "execute_result",
     "data": {
      "text/plain": [
       "random_Linear_network (generic function with 2 methods)"
      ]
     },
     "metadata": {},
     "execution_count": 8
    }
   ],
   "source": [
    "function random_Linear_network(::Type{T}, nin::Int, nhidden::Int) where T\n",
    "    y1 = zeros(T, nhidden)\n",
    "    model=Linear{T}[]\n",
    "    push!(model,Linear{T}(randn(T,  nhidden, nin), randn(T, nhidden),zeros(Float64, nhidden),zeros(Float64, nhidden)))\n",
    "    push!(model,Linear{T}(randn(T,  nhidden, nhidden), randn(T, nhidden),zeros(Float64, nhidden),zeros(Float64, nhidden)))\n",
    "    push!(model,Linear{T}(randn(Float64, 1, nhidden), randn(Float64, 1),zeros(Float64, 1),zeros(Float64, 1)))\n",
    "    return model\n",
    "end"
   ]
  },
  {
   "cell_type": "code",
   "execution_count": 33,
   "metadata": {},
   "outputs": [
    {
     "output_type": "execute_result",
     "data": {
      "text/plain": [
       "3-element Array{Linear{Float64},1}:\n",
       " Linear{Float64}([0.34066379389330387; 0.03655141068216427; … ; 0.29769252419506276; -0.38783288272845134], [-0.7896461257651173, -1.0785377762463966, 0.29303887441309995, -1.502377906657609, -0.016430410055011783, 1.112491955227989, 0.18395047344966406, 0.2055322131221128, 0.9605302502335613, -0.15543111980050406  …  -0.9706616692442986, -0.5581520326547871, 0.016077788400614232, -0.2291326450278882, -0.11546753212686375, 1.3894576608203641, 0.15520013845554537, -0.8088401150358574, -1.350499319748895, -0.4762636595662629], [0.0, 0.0, 0.0, 0.0, 0.0, 0.0, 0.0, 0.0, 0.0, 0.0  …  0.0, 0.0, 0.0, 0.0, 0.0, 0.0, 0.0, 0.0, 0.0, 0.0], [0.0, 0.0, 0.0, 0.0, 0.0, 0.0, 0.0, 0.0, 0.0, 0.0  …  0.0, 0.0, 0.0, 0.0, 0.0, 0.0, 0.0, 0.0, 0.0, 0.0])\n",
       " Linear{Float64}([-0.31923519094237807 0.4193268952077571 … 1.3495928222870863 1.4230033835630767; -2.4470948897577536 -1.9934133679647577 … 1.2933285899368463 0.40083217493307716; … ; -2.448468492342583 -2.090449277948966 … 0.27626150217284196 0.09597294755370239; 2.0084154986730534 0.4156522972805833 … -1.5047613597314193 0.7509952966931124], [-0.49336351936238004, -1.8299546535897113, -0.4394921691547287, 0.6902968442868077, 0.6541727023931246, 0.619717726837056, -0.17089732981150355, 0.7324065443645443, -1.290029185989633, -0.21771194473260252  …  1.1631807550840638, 1.0017527349015323, 0.8504804075756153, -0.7545059873839481, 0.8873852167155245, -0.03976141582063275, 1.1714520081072894, 0.5800670689561619, 0.004974030085791344, 1.0383180214157743], [0.0, 0.0, 0.0, 0.0, 0.0, 0.0, 0.0, 0.0, 0.0, 0.0  …  0.0, 0.0, 0.0, 0.0, 0.0, 0.0, 0.0, 0.0, 0.0, 0.0], [0.0, 0.0, 0.0, 0.0, 0.0, 0.0, 0.0, 0.0, 0.0, 0.0  …  0.0, 0.0, 0.0, 0.0, 0.0, 0.0, 0.0, 0.0, 0.0, 0.0])\n",
       " Linear{Float64}([0.44994855642885495 -1.0132216082620056 … 1.4259338807123747 0.4204133842698208], [0.5642416442226412], [0.0], [0.0])"
      ]
     },
     "metadata": {},
     "execution_count": 33
    }
   ],
   "source": [
    "x=randn(Float64,1);\n",
    "model = random_Linear_network(Float64, 1, 64);\n",
    "model\n"
   ]
  },
  {
   "cell_type": "code",
   "execution_count": 10,
   "metadata": {},
   "outputs": [
    {
     "output_type": "execute_result",
     "data": {
      "text/plain": [
       "3-element Array{Linear{Float64},1}:\n",
       " Linear{Float64}([-0.23377692595382346; -1.876082723373444; … ; -0.2775782830846358; 1.0053963637200165], [2.0587233344301987, 0.9930586059012015, -0.07828060073198712, -0.8457104874430017, 1.5102760601399494, -0.9755229725761865, 1.3780828405677572, 1.3597599619565246, -1.1018196870775159, -0.01836633845996827  …  1.1305679594325972, -0.2975122809672922, 0.8672320631560677, 1.0400925808179267, -0.3082907917506283, 0.38223192483926416, -1.3132609176250156, -0.21045252078193188, 1.5577639361920386, 1.5066085690981927], [0.0, 0.0, 0.0, 0.0, 0.0, 0.0, 0.0, 0.0, 0.0, 0.0  …  0.0, 0.0, 0.0, 0.0, 0.0, 0.0, 0.0, 0.0, 0.0, 0.0], [2.3083485637546186, 2.996325515768013, 0.9249928809945924, 0.0, 1.8962766639427335, 0.39629672920592895, 0.9842016096026227, 1.3990235218659324, 0.0, 1.3769462360467324  …  2.8363516206904444, 0.0, 2.1424172539670607, 0.0, 0.0, 0.0, 0.0, 0.03437999813047443, 1.854159922612732, 0.4330539535964042])\n",
       " Linear{Float64}([0.017005655742421546 0.7624922598177527 … -0.30904813403391534 -0.8421282372750477; -2.4827762787405305 2.262568684421231 … -0.7679245975727522 1.98054832171268; … ; -0.22788164722039914 2.211043643896744 … 0.16892590280126096 -0.056504754273655734; 1.8254597879197927 -0.4005417358102384 … -0.5717488806029007 2.8025782097483023], [-0.6233768072852452, 1.755504248448286, -0.48185220731253847, 0.5612780004620428, -0.5638329849012306, -0.5983219880990239, -1.9698895198156734, -0.2987030390645189, 0.2676674908829706, 0.9589344475537033  …  -0.09824070628134642, 0.48697207423809735, 0.1807659478207694, -0.19838074664645122, 0.5029198186084197, -1.2054612403577407, -0.5224537153108937, 0.17203731791878954, -1.1252422118661405, -1.3900410084663377], [0.0, 0.0, 0.0, 0.0, 0.0, 0.0, 0.0, 0.0, 0.0, 0.0  …  0.0, 0.0, 0.0, 0.0, 0.0, 0.0, 0.0, 0.0, 0.0, 0.0], [0.0, 2.8571613694371694, 8.348696604962424, 4.127720397668926, 0.0, 7.200837485999666, 4.538672714219681, 0.0, 13.171430915122244, 8.666116956913973  …  6.177071907946477, 8.242797455062101, 0.0, 0.0, 6.367404212591496, 6.532674140809181, 0.0, 2.9314431202326485, 2.2377898537503613, 9.416734371740688])\n",
       " Linear{Float64}([1.3114581769823095 -0.13481851563852754 … -0.3062320727408681 0.10393713636075608], [3.0449273117725473], [0.0], [-0.9993589246434736])"
      ]
     },
     "metadata": {},
     "execution_count": 10
    }
   ],
   "source": [
    "y=[0.0]\n",
    "x,model,y=Linear_network!(x, model,y);\n",
    "model "
   ]
  },
  {
   "cell_type": "code",
   "execution_count": 11,
   "metadata": {},
   "outputs": [],
   "source": [
    "x,model,y=(~Linear_network!)(x, model,y); "
   ]
  },
  {
   "cell_type": "code",
   "execution_count": 12,
   "metadata": {},
   "outputs": [
    {
     "output_type": "execute_result",
     "data": {
      "text/plain": [
       "3-element Array{Linear{Float64},1}:\n",
       " Linear{Float64}([-0.23377692595382346; -1.876082723373444; … ; -0.2775782830846358; 1.0053963637200165], [2.0587233344301987, 0.9930586059012015, -0.07828060073198712, -0.8457104874430017, 1.5102760601399494, -0.9755229725761865, 1.3780828405677572, 1.3597599619565246, -1.1018196870775159, -0.01836633845996827  …  1.1305679594325972, -0.2975122809672922, 0.8672320631560677, 1.0400925808179267, -0.3082907917506283, 0.38223192483926416, -1.3132609176250156, -0.21045252078193188, 1.5577639361920386, 1.5066085690981927], [-2.7755575615628914e-17, 0.0, 0.0, 0.0, 0.0, 0.0, -5.551115123125783e-17, -1.1102230246251565e-16, 0.0, 0.0  …  2.220446049250313e-16, 0.0, 2.220446049250313e-16, 0.0, 0.0, 0.0, 0.0, 0.0, -5.551115123125783e-17, 0.0], [0.0, 0.0, 0.0, 0.0, 0.0, 0.0, 0.0, 0.0, 0.0, 0.0  …  0.0, 0.0, 0.0, 0.0, 0.0, 0.0, 0.0, 0.0, 0.0, 0.0])\n",
       " Linear{Float64}([0.017005655742421546 0.7624922598177527 … -0.30904813403391534 -0.8421282372750477; -2.4827762787405305 2.262568684421231 … -0.7679245975727522 1.98054832171268; … ; -0.22788164722039914 2.211043643896744 … 0.16892590280126096 -0.056504754273655734; 1.8254597879197927 -0.4005417358102384 … -0.5717488806029007 2.8025782097483023], [-0.6233768072852452, 1.755504248448286, -0.48185220731253847, 0.5612780004620428, -0.5638329849012306, -0.5983219880990239, -1.9698895198156734, -0.2987030390645189, 0.2676674908829706, 0.9589344475537033  …  -0.09824070628134642, 0.48697207423809735, 0.1807659478207694, -0.19838074664645122, 0.5029198186084197, -1.2054612403577407, -0.5224537153108937, 0.17203731791878954, -1.1252422118661405, -1.3900410084663377], [-9.922618282587337e-16, 8.881784197001252e-16, 0.0, 1.3322676295501878e-15, 1.5543122344752192e-15, 2.6645352591003757e-15, 3.3306690738754696e-16, 1.3322676295501878e-15, -1.9984014443252818e-15, 2.220446049250313e-16  …  2.4424906541753444e-15, -1.2212453270876722e-15, 1.5543122344752192e-15, 3.1086244689504383e-15, 1.7763568394002505e-15, -1.27675647831893e-15, -1.3322676295501878e-15, 1.7763568394002505e-15, 2.220446049250313e-16, 8.881784197001252e-16], [0.0, 0.0, 0.0, 0.0, 0.0, 0.0, 0.0, 0.0, 0.0, 0.0  …  0.0, 0.0, 0.0, 0.0, 0.0, 0.0, 0.0, 0.0, 0.0, 0.0])\n",
       " Linear{Float64}([1.3114581769823095 -0.13481851563852754 … -0.3062320727408681 0.10393713636075608], [3.0449273117725473], [-2.3314683517128287e-15], [0.0])"
      ]
     },
     "metadata": {},
     "execution_count": 12
    }
   ],
   "source": [
    "model"
   ]
  },
  {
   "cell_type": "code",
   "execution_count": 13,
   "metadata": {},
   "outputs": [
    {
     "output_type": "execute_result",
     "data": {
      "text/plain": [
       "nparameters (generic function with 2 methods)"
      ]
     },
     "metadata": {},
     "execution_count": 13
    }
   ],
   "source": [
    "nparameters(n::Linear) = length(n.W1) + length(n.b1)\n",
    "nparameters(n::LinearNetwork) = sum(nparameters, n)"
   ]
  },
  {
   "cell_type": "code",
   "execution_count": 14,
   "metadata": {},
   "outputs": [
    {
     "output_type": "execute_result",
     "data": {
      "text/plain": [
       "collect_params!"
      ]
     },
     "metadata": {},
     "execution_count": 14
    }
   ],
   "source": [
    "\"\"\"collect parameters in the `layer` into a vector `out`.\"\"\"\n",
    "function collect_params!(out, layer::Linear)\n",
    "    a, b= length(layer.W1), length(layer.b1)\n",
    "    out[1:a] .= vec(layer.W1)\n",
    "    out[a+1:a+b] .= layer.b1\n",
    "    return out\n",
    "end"
   ]
  },
  {
   "cell_type": "code",
   "execution_count": 15,
   "metadata": {},
   "outputs": [
    {
     "output_type": "execute_result",
     "data": {
      "text/plain": [
       "dispatch_params! (generic function with 1 method)"
      ]
     },
     "metadata": {},
     "execution_count": 15
    }
   ],
   "source": [
    "function dispatch_params!(layer::Linear, out)\n",
    "    a, b= length(layer.W1), length(layer.b1)\n",
    "    vec(layer.W1) .= out[1:a]\n",
    "    layer.b1 .= out[a+1:a+b]\n",
    "    return layer\n",
    "end"
   ]
  },
  {
   "cell_type": "code",
   "execution_count": 16,
   "metadata": {},
   "outputs": [
    {
     "output_type": "execute_result",
     "data": {
      "text/plain": [
       "collect_params (generic function with 1 method)"
      ]
     },
     "metadata": {},
     "execution_count": 16
    }
   ],
   "source": [
    "function collect_params(n::LinearNetwork)\n",
    "    out = zeros(Float64, nparameters(n))\n",
    "    k = 0\n",
    "    for layer in n\n",
    "        np = nparameters(layer)\n",
    "        collect_params!(view(out, k+1:k+np), layer)\n",
    "        k += np\n",
    "    end\n",
    "    return out\n",
    "end"
   ]
  },
  {
   "cell_type": "code",
   "execution_count": 17,
   "metadata": {},
   "outputs": [
    {
     "output_type": "execute_result",
     "data": {
      "text/plain": [
       "dispatch_params! (generic function with 2 methods)"
      ]
     },
     "metadata": {},
     "execution_count": 17
    }
   ],
   "source": [
    "function dispatch_params!(network::LinearNetwork, out)\n",
    "    k = 0\n",
    "    for layer in network\n",
    "        np = nparameters(layer)\n",
    "        dispatch_params!(layer, view(out, k+1:k+np))\n",
    "        k += np\n",
    "    end\n",
    "    return network\n",
    "end"
   ]
  },
  {
   "cell_type": "code",
   "execution_count": 18,
   "metadata": {},
   "outputs": [],
   "source": [
    "struct SineWave\n",
    "    amplitude::Float32\n",
    "    phase_shift::Float32\n",
    "end\n",
    "SineWave() = SineWave(rand(Uniform(0.1, 5)), rand(Uniform(0, 2pi)))\n",
    "\n",
    "(s::SineWave)(x::AbstractArray) = s.amplitude .* sin.(x .+ s.phase_shift)\n",
    "\n",
    "function Base.show(io::IO, s::SineWave)\n",
    "    print(io, \"SineWave(amplitude = \", s.amplitude, \", phase shift = \", s.phase_shift, \")\")\n",
    "end"
   ]
  },
  {
   "cell_type": "code",
   "execution_count": 19,
   "metadata": {},
   "outputs": [
    {
     "output_type": "execute_result",
     "data": {
      "text/plain": [
       "SineWave(amplitude = 4.0, phase shift = 1.0)"
      ]
     },
     "metadata": {},
     "execution_count": 19
    }
   ],
   "source": [
    "wave = SineWave(4, 1)\n"
   ]
  },
  {
   "cell_type": "code",
   "execution_count": 52,
   "metadata": {},
   "outputs": [
    {
     "output_type": "execute_result",
     "data": {
      "image/svg+xml": "<?xml version=\"1.0\" encoding=\"utf-8\"?>\n<svg xmlns=\"http://www.w3.org/2000/svg\" xmlns:xlink=\"http://www.w3.org/1999/xlink\" width=\"600\" height=\"400\" viewBox=\"0 0 2400 1600\">\n<defs>\n  <clipPath id=\"clip9100\">\n    <rect x=\"0\" y=\"0\" width=\"2400\" height=\"1600\"/>\n  </clipPath>\n</defs>\n<path clip-path=\"url(#clip9100)\" d=\"\nM0 1600 L2400 1600 L2400 0 L0 0  Z\n  \" fill=\"#ffffff\" fill-rule=\"evenodd\" fill-opacity=\"1\"/>\n<defs>\n  <clipPath id=\"clip9101\">\n    <rect x=\"480\" y=\"0\" width=\"1681\" height=\"1600\"/>\n  </clipPath>\n</defs>\n<path clip-path=\"url(#clip9100)\" d=\"\nM126.969 1486.45 L2352.76 1486.45 L2352.76 47.2441 L126.969 47.2441  Z\n  \" fill=\"#ffffff\" fill-rule=\"evenodd\" fill-opacity=\"1\"/>\n<defs>\n  <clipPath id=\"clip9102\">\n    <rect x=\"126\" y=\"47\" width=\"2227\" height=\"1440\"/>\n  </clipPath>\n</defs>\n<polyline clip-path=\"url(#clip9102)\" style=\"stroke:#000000; stroke-width:2; stroke-opacity:0.1; fill:none\" points=\"\n  388.209,1486.45 388.209,47.2441 \n  \"/>\n<polyline clip-path=\"url(#clip9102)\" style=\"stroke:#000000; stroke-width:2; stroke-opacity:0.1; fill:none\" points=\"\n  813.891,1486.45 813.891,47.2441 \n  \"/>\n<polyline clip-path=\"url(#clip9102)\" style=\"stroke:#000000; stroke-width:2; stroke-opacity:0.1; fill:none\" points=\"\n  1239.57,1486.45 1239.57,47.2441 \n  \"/>\n<polyline clip-path=\"url(#clip9102)\" style=\"stroke:#000000; stroke-width:2; stroke-opacity:0.1; fill:none\" points=\"\n  1665.26,1486.45 1665.26,47.2441 \n  \"/>\n<polyline clip-path=\"url(#clip9102)\" style=\"stroke:#000000; stroke-width:2; stroke-opacity:0.1; fill:none\" points=\"\n  2090.94,1486.45 2090.94,47.2441 \n  \"/>\n<polyline clip-path=\"url(#clip9102)\" style=\"stroke:#000000; stroke-width:2; stroke-opacity:0.1; fill:none\" points=\"\n  126.969,1445.8 2352.76,1445.8 \n  \"/>\n<polyline clip-path=\"url(#clip9102)\" style=\"stroke:#000000; stroke-width:2; stroke-opacity:0.1; fill:none\" points=\"\n  126.969,1105.89 2352.76,1105.89 \n  \"/>\n<polyline clip-path=\"url(#clip9102)\" style=\"stroke:#000000; stroke-width:2; stroke-opacity:0.1; fill:none\" points=\"\n  126.969,765.982 2352.76,765.982 \n  \"/>\n<polyline clip-path=\"url(#clip9102)\" style=\"stroke:#000000; stroke-width:2; stroke-opacity:0.1; fill:none\" points=\"\n  126.969,426.074 2352.76,426.074 \n  \"/>\n<polyline clip-path=\"url(#clip9102)\" style=\"stroke:#000000; stroke-width:2; stroke-opacity:0.1; fill:none\" points=\"\n  126.969,86.1656 2352.76,86.1656 \n  \"/>\n<polyline clip-path=\"url(#clip9100)\" style=\"stroke:#000000; stroke-width:4; stroke-opacity:1; fill:none\" points=\"\n  126.969,1486.45 2352.76,1486.45 \n  \"/>\n<polyline clip-path=\"url(#clip9100)\" style=\"stroke:#000000; stroke-width:4; stroke-opacity:1; fill:none\" points=\"\n  126.969,1486.45 126.969,47.2441 \n  \"/>\n<polyline clip-path=\"url(#clip9100)\" style=\"stroke:#000000; stroke-width:4; stroke-opacity:1; fill:none\" points=\"\n  388.209,1486.45 388.209,1469.18 \n  \"/>\n<polyline clip-path=\"url(#clip9100)\" style=\"stroke:#000000; stroke-width:4; stroke-opacity:1; fill:none\" points=\"\n  813.891,1486.45 813.891,1469.18 \n  \"/>\n<polyline clip-path=\"url(#clip9100)\" style=\"stroke:#000000; stroke-width:4; stroke-opacity:1; fill:none\" points=\"\n  1239.57,1486.45 1239.57,1469.18 \n  \"/>\n<polyline clip-path=\"url(#clip9100)\" style=\"stroke:#000000; stroke-width:4; stroke-opacity:1; fill:none\" points=\"\n  1665.26,1486.45 1665.26,1469.18 \n  \"/>\n<polyline clip-path=\"url(#clip9100)\" style=\"stroke:#000000; stroke-width:4; stroke-opacity:1; fill:none\" points=\"\n  2090.94,1486.45 2090.94,1469.18 \n  \"/>\n<polyline clip-path=\"url(#clip9100)\" style=\"stroke:#000000; stroke-width:4; stroke-opacity:1; fill:none\" points=\"\n  126.969,1445.8 153.678,1445.8 \n  \"/>\n<polyline clip-path=\"url(#clip9100)\" style=\"stroke:#000000; stroke-width:4; stroke-opacity:1; fill:none\" points=\"\n  126.969,1105.89 153.678,1105.89 \n  \"/>\n<polyline clip-path=\"url(#clip9100)\" style=\"stroke:#000000; stroke-width:4; stroke-opacity:1; fill:none\" points=\"\n  126.969,765.982 153.678,765.982 \n  \"/>\n<polyline clip-path=\"url(#clip9100)\" style=\"stroke:#000000; stroke-width:4; stroke-opacity:1; fill:none\" points=\"\n  126.969,426.074 153.678,426.074 \n  \"/>\n<polyline clip-path=\"url(#clip9100)\" style=\"stroke:#000000; stroke-width:4; stroke-opacity:1; fill:none\" points=\"\n  126.969,86.1656 153.678,86.1656 \n  \"/>\n<path clip-path=\"url(#clip9100)\" d=\"M 0 0 M368.221 1525.04 L380.697 1525.04 L380.697 1528.83 L368.221 1528.83 L368.221 1525.04 Z\" fill=\"#000000\" fill-rule=\"evenodd\" fill-opacity=\"1\" /><path clip-path=\"url(#clip9100)\" d=\"M 0 0 M398.614 1509.43 L386.808 1527.88 L398.614 1527.88 L398.614 1509.43 M397.387 1505.36 L403.267 1505.36 L403.267 1527.88 L408.197 1527.88 L408.197 1531.77 L403.267 1531.77 L403.267 1539.92 L398.614 1539.92 L398.614 1531.77 L383.012 1531.77 L383.012 1527.26 L397.387 1505.36 Z\" fill=\"#000000\" fill-rule=\"evenodd\" fill-opacity=\"1\" /><path clip-path=\"url(#clip9100)\" d=\"M 0 0 M794.945 1525.04 L807.421 1525.04 L807.421 1528.83 L794.945 1528.83 L794.945 1525.04 Z\" fill=\"#000000\" fill-rule=\"evenodd\" fill-opacity=\"1\" /><path clip-path=\"url(#clip9100)\" d=\"M 0 0 M816.518 1535.98 L832.838 1535.98 L832.838 1539.92 L810.894 1539.92 L810.894 1535.98 Q813.556 1533.23 818.139 1528.6 Q822.745 1523.95 823.926 1522.61 Q826.171 1520.08 827.051 1518.35 Q827.954 1516.59 827.954 1514.9 Q827.954 1512.14 826.009 1510.41 Q824.088 1508.67 820.986 1508.67 Q818.787 1508.67 816.333 1509.43 Q813.903 1510.2 811.125 1511.75 L811.125 1507.03 Q813.949 1505.89 816.403 1505.31 Q818.856 1504.73 820.893 1504.73 Q826.264 1504.73 829.458 1507.42 Q832.653 1510.11 832.653 1514.6 Q832.653 1516.73 831.842 1518.65 Q831.055 1520.54 828.949 1523.14 Q828.37 1523.81 825.268 1527.03 Q822.167 1530.22 816.518 1535.98 Z\" fill=\"#000000\" fill-rule=\"evenodd\" fill-opacity=\"1\" /><path clip-path=\"url(#clip9100)\" d=\"M 0 0 M1239.57 1508.44 Q1235.96 1508.44 1234.13 1512 Q1232.33 1515.55 1232.33 1522.67 Q1232.33 1529.78 1234.13 1533.35 Q1235.96 1536.89 1239.57 1536.89 Q1243.21 1536.89 1245.01 1533.35 Q1246.84 1529.78 1246.84 1522.67 Q1246.84 1515.55 1245.01 1512 Q1243.21 1508.44 1239.57 1508.44 M1239.57 1504.73 Q1245.38 1504.73 1248.44 1509.34 Q1251.52 1513.92 1251.52 1522.67 Q1251.52 1531.4 1248.44 1536.01 Q1245.38 1540.59 1239.57 1540.59 Q1233.76 1540.59 1230.68 1536.01 Q1227.63 1531.4 1227.63 1522.67 Q1227.63 1513.92 1230.68 1509.34 Q1233.76 1504.73 1239.57 1504.73 Z\" fill=\"#000000\" fill-rule=\"evenodd\" fill-opacity=\"1\" /><path clip-path=\"url(#clip9100)\" d=\"M 0 0 M1659.91 1535.98 L1676.23 1535.98 L1676.23 1539.92 L1654.28 1539.92 L1654.28 1535.98 Q1656.95 1533.23 1661.53 1528.6 Q1666.14 1523.95 1667.32 1522.61 Q1669.56 1520.08 1670.44 1518.35 Q1671.34 1516.59 1671.34 1514.9 Q1671.34 1512.14 1669.4 1510.41 Q1667.48 1508.67 1664.38 1508.67 Q1662.18 1508.67 1659.72 1509.43 Q1657.29 1510.2 1654.52 1511.75 L1654.52 1507.03 Q1657.34 1505.89 1659.79 1505.31 Q1662.25 1504.73 1664.28 1504.73 Q1669.65 1504.73 1672.85 1507.42 Q1676.04 1510.11 1676.04 1514.6 Q1676.04 1516.73 1675.23 1518.65 Q1674.45 1520.54 1672.34 1523.14 Q1671.76 1523.81 1668.66 1527.03 Q1665.56 1530.22 1659.91 1535.98 Z\" fill=\"#000000\" fill-rule=\"evenodd\" fill-opacity=\"1\" /><path clip-path=\"url(#clip9100)\" d=\"M 0 0 M2093.95 1509.43 L2082.14 1527.88 L2093.95 1527.88 L2093.95 1509.43 M2092.72 1505.36 L2098.6 1505.36 L2098.6 1527.88 L2103.53 1527.88 L2103.53 1531.77 L2098.6 1531.77 L2098.6 1539.92 L2093.95 1539.92 L2093.95 1531.77 L2078.35 1531.77 L2078.35 1527.26 L2092.72 1505.36 Z\" fill=\"#000000\" fill-rule=\"evenodd\" fill-opacity=\"1\" /><path clip-path=\"url(#clip9100)\" d=\"M 0 0 M62.9921 1448.19 L75.4689 1448.19 L75.4689 1451.99 L62.9921 1451.99 L62.9921 1448.19 Z\" fill=\"#000000\" fill-rule=\"evenodd\" fill-opacity=\"1\" /><path clip-path=\"url(#clip9100)\" d=\"M 0 0 M93.3855 1432.59 L81.58 1451.04 L93.3855 1451.04 L93.3855 1432.59 M92.1586 1428.52 L98.0382 1428.52 L98.0382 1451.04 L102.969 1451.04 L102.969 1454.93 L98.0382 1454.93 L98.0382 1463.08 L93.3855 1463.08 L93.3855 1454.93 L77.7837 1454.93 L77.7837 1450.42 L92.1586 1428.52 Z\" fill=\"#000000\" fill-rule=\"evenodd\" fill-opacity=\"1\" /><path clip-path=\"url(#clip9100)\" d=\"M 0 0 M65.0754 1108.29 L77.5522 1108.29 L77.5522 1112.08 L65.0754 1112.08 L65.0754 1108.29 Z\" fill=\"#000000\" fill-rule=\"evenodd\" fill-opacity=\"1\" /><path clip-path=\"url(#clip9100)\" d=\"M 0 0 M86.6494 1119.24 L102.969 1119.24 L102.969 1123.17 L81.0244 1123.17 L81.0244 1119.24 Q83.6865 1116.48 88.2698 1111.85 Q92.8762 1107.2 94.0568 1105.86 Q96.3021 1103.33 97.1818 1101.6 Q98.0845 1099.84 98.0845 1098.15 Q98.0845 1095.39 96.1401 1093.66 Q94.2188 1091.92 91.117 1091.92 Q88.9179 1091.92 86.4642 1092.68 Q84.0337 1093.45 81.2559 1095 L81.2559 1090.28 Q84.08 1089.14 86.5337 1088.56 Q88.9874 1087.99 91.0244 1087.99 Q96.3947 1087.99 99.5892 1090.67 Q102.784 1093.36 102.784 1097.85 Q102.784 1099.98 101.973 1101.9 Q101.186 1103.8 99.0799 1106.39 Q98.5012 1107.06 95.3994 1110.28 Q92.2975 1113.47 86.6494 1119.24 Z\" fill=\"#000000\" fill-rule=\"evenodd\" fill-opacity=\"1\" /><path clip-path=\"url(#clip9100)\" d=\"M 0 0 M91.0244 751.781 Q87.4133 751.781 85.5846 755.346 Q83.7791 758.887 83.7791 766.017 Q83.7791 773.123 85.5846 776.688 Q87.4133 780.23 91.0244 780.23 Q94.6586 780.23 96.4642 776.688 Q98.2929 773.123 98.2929 766.017 Q98.2929 758.887 96.4642 755.346 Q94.6586 751.781 91.0244 751.781 M91.0244 748.077 Q96.8345 748.077 99.8901 752.684 Q102.969 757.267 102.969 766.017 Q102.969 774.744 99.8901 779.35 Q96.8345 783.933 91.0244 783.933 Q85.2142 783.933 82.1355 779.35 Q79.08 774.744 79.08 766.017 Q79.08 757.267 82.1355 752.684 Q85.2142 748.077 91.0244 748.077 Z\" fill=\"#000000\" fill-rule=\"evenodd\" fill-opacity=\"1\" /><path clip-path=\"url(#clip9100)\" d=\"M 0 0 M86.6494 439.419 L102.969 439.419 L102.969 443.354 L81.0244 443.354 L81.0244 439.419 Q83.6865 436.664 88.2698 432.035 Q92.8762 427.382 94.0568 426.039 Q96.3021 423.516 97.1818 421.78 Q98.0845 420.021 98.0845 418.331 Q98.0845 415.576 96.1401 413.84 Q94.2188 412.104 91.117 412.104 Q88.9179 412.104 86.4642 412.868 Q84.0337 413.632 81.2559 415.183 L81.2559 410.461 Q84.08 409.326 86.5337 408.748 Q88.9874 408.169 91.0244 408.169 Q96.3947 408.169 99.5892 410.854 Q102.784 413.539 102.784 418.03 Q102.784 420.16 101.973 422.081 Q101.186 423.979 99.0799 426.572 Q98.5012 427.243 95.3994 430.46 Q92.2975 433.655 86.6494 439.419 Z\" fill=\"#000000\" fill-rule=\"evenodd\" fill-opacity=\"1\" /><path clip-path=\"url(#clip9100)\" d=\"M 0 0 M93.3855 72.9597 L81.58 91.4087 L93.3855 91.4087 L93.3855 72.9597 M92.1586 68.8856 L98.0382 68.8856 L98.0382 91.4087 L102.969 91.4087 L102.969 95.2975 L98.0382 95.2975 L98.0382 103.446 L93.3855 103.446 L93.3855 95.2975 L77.7837 95.2975 L77.7837 90.7837 L92.1586 68.8856 Z\" fill=\"#000000\" fill-rule=\"evenodd\" fill-opacity=\"1\" /><circle clip-path=\"url(#clip9102)\" cx=\"2053.41\" cy=\"1441.59\" r=\"14\" fill=\"#009af9\" fill-rule=\"evenodd\" fill-opacity=\"1\" stroke=\"#000000\" stroke-opacity=\"1\" stroke-width=\"3.2\"/>\n<circle clip-path=\"url(#clip9102)\" cx=\"1612.34\" cy=\"507.4\" r=\"14\" fill=\"#009af9\" fill-rule=\"evenodd\" fill-opacity=\"1\" stroke=\"#000000\" stroke-opacity=\"1\" stroke-width=\"3.2\"/>\n<circle clip-path=\"url(#clip9102)\" cx=\"1783.07\" cy=\"1038.18\" r=\"14\" fill=\"#009af9\" fill-rule=\"evenodd\" fill-opacity=\"1\" stroke=\"#000000\" stroke-opacity=\"1\" stroke-width=\"3.2\"/>\n<circle clip-path=\"url(#clip9102)\" cx=\"596.064\" cy=\"1377.34\" r=\"14\" fill=\"#009af9\" fill-rule=\"evenodd\" fill-opacity=\"1\" stroke=\"#000000\" stroke-opacity=\"1\" stroke-width=\"3.2\"/>\n<circle clip-path=\"url(#clip9102)\" cx=\"1980.1\" cy=\"1427.41\" r=\"14\" fill=\"#009af9\" fill-rule=\"evenodd\" fill-opacity=\"1\" stroke=\"#000000\" stroke-opacity=\"1\" stroke-width=\"3.2\"/>\n<circle clip-path=\"url(#clip9102)\" cx=\"689.076\" cy=\"1445.72\" r=\"14\" fill=\"#009af9\" fill-rule=\"evenodd\" fill-opacity=\"1\" stroke=\"#000000\" stroke-opacity=\"1\" stroke-width=\"3.2\"/>\n<circle clip-path=\"url(#clip9102)\" cx=\"1261.9\" cy=\"158.619\" r=\"14\" fill=\"#009af9\" fill-rule=\"evenodd\" fill-opacity=\"1\" stroke=\"#000000\" stroke-opacity=\"1\" stroke-width=\"3.2\"/>\n<circle clip-path=\"url(#clip9102)\" cx=\"1946.59\" cy=\"1394.6\" r=\"14\" fill=\"#009af9\" fill-rule=\"evenodd\" fill-opacity=\"1\" stroke=\"#000000\" stroke-opacity=\"1\" stroke-width=\"3.2\"/>\n<circle clip-path=\"url(#clip9102)\" cx=\"824.293\" cy=\"1319.4\" r=\"14\" fill=\"#009af9\" fill-rule=\"evenodd\" fill-opacity=\"1\" stroke=\"#000000\" stroke-opacity=\"1\" stroke-width=\"3.2\"/>\n<circle clip-path=\"url(#clip9102)\" cx=\"1728.39\" cy=\"870.954\" r=\"14\" fill=\"#009af9\" fill-rule=\"evenodd\" fill-opacity=\"1\" stroke=\"#000000\" stroke-opacity=\"1\" stroke-width=\"3.2\"/>\n<circle clip-path=\"url(#clip9102)\" cx=\"2044.32\" cy=\"1444.2\" r=\"14\" fill=\"#009af9\" fill-rule=\"evenodd\" fill-opacity=\"1\" stroke=\"#000000\" stroke-opacity=\"1\" stroke-width=\"3.2\"/>\n<circle clip-path=\"url(#clip9102)\" cx=\"443.555\" cy=\"1031.73\" r=\"14\" fill=\"#009af9\" fill-rule=\"evenodd\" fill-opacity=\"1\" stroke=\"#000000\" stroke-opacity=\"1\" stroke-width=\"3.2\"/>\n<circle clip-path=\"url(#clip9102)\" cx=\"2289.76\" cy=\"998.479\" r=\"14\" fill=\"#009af9\" fill-rule=\"evenodd\" fill-opacity=\"1\" stroke=\"#000000\" stroke-opacity=\"1\" stroke-width=\"3.2\"/>\n<circle clip-path=\"url(#clip9102)\" cx=\"1519.97\" cy=\"266.988\" r=\"14\" fill=\"#009af9\" fill-rule=\"evenodd\" fill-opacity=\"1\" stroke=\"#000000\" stroke-opacity=\"1\" stroke-width=\"3.2\"/>\n<circle clip-path=\"url(#clip9102)\" cx=\"911.124\" cy=\"1117.35\" r=\"14\" fill=\"#009af9\" fill-rule=\"evenodd\" fill-opacity=\"1\" stroke=\"#000000\" stroke-opacity=\"1\" stroke-width=\"3.2\"/>\n<circle clip-path=\"url(#clip9102)\" cx=\"301.553\" cy=\"587.574\" r=\"14\" fill=\"#009af9\" fill-rule=\"evenodd\" fill-opacity=\"1\" stroke=\"#000000\" stroke-opacity=\"1\" stroke-width=\"3.2\"/>\n<circle clip-path=\"url(#clip9102)\" cx=\"1264.48\" cy=\"154.961\" r=\"14\" fill=\"#009af9\" fill-rule=\"evenodd\" fill-opacity=\"1\" stroke=\"#000000\" stroke-opacity=\"1\" stroke-width=\"3.2\"/>\n<circle clip-path=\"url(#clip9102)\" cx=\"425.588\" cy=\"978.029\" r=\"14\" fill=\"#009af9\" fill-rule=\"evenodd\" fill-opacity=\"1\" stroke=\"#000000\" stroke-opacity=\"1\" stroke-width=\"3.2\"/>\n<circle clip-path=\"url(#clip9102)\" cx=\"1272.65\" cy=\"143.974\" r=\"14\" fill=\"#009af9\" fill-rule=\"evenodd\" fill-opacity=\"1\" stroke=\"#000000\" stroke-opacity=\"1\" stroke-width=\"3.2\"/>\n<circle clip-path=\"url(#clip9102)\" cx=\"1977.17\" cy=\"1425.19\" r=\"14\" fill=\"#009af9\" fill-rule=\"evenodd\" fill-opacity=\"1\" stroke=\"#000000\" stroke-opacity=\"1\" stroke-width=\"3.2\"/>\n<circle clip-path=\"url(#clip9102)\" cx=\"1439.78\" cy=\"132.137\" r=\"14\" fill=\"#009af9\" fill-rule=\"evenodd\" fill-opacity=\"1\" stroke=\"#000000\" stroke-opacity=\"1\" stroke-width=\"3.2\"/>\n<circle clip-path=\"url(#clip9102)\" cx=\"1259.42\" cy=\"162.22\" r=\"14\" fill=\"#009af9\" fill-rule=\"evenodd\" fill-opacity=\"1\" stroke=\"#000000\" stroke-opacity=\"1\" stroke-width=\"3.2\"/>\n<circle clip-path=\"url(#clip9102)\" cx=\"1928.55\" cy=\"1370.43\" r=\"14\" fill=\"#009af9\" fill-rule=\"evenodd\" fill-opacity=\"1\" stroke=\"#000000\" stroke-opacity=\"1\" stroke-width=\"3.2\"/>\n<circle clip-path=\"url(#clip9102)\" cx=\"560.176\" cy=\"1318.78\" r=\"14\" fill=\"#009af9\" fill-rule=\"evenodd\" fill-opacity=\"1\" stroke=\"#000000\" stroke-opacity=\"1\" stroke-width=\"3.2\"/>\n<circle clip-path=\"url(#clip9102)\" cx=\"2232.66\" cy=\"1159.51\" r=\"14\" fill=\"#009af9\" fill-rule=\"evenodd\" fill-opacity=\"1\" stroke=\"#000000\" stroke-opacity=\"1\" stroke-width=\"3.2\"/>\n<circle clip-path=\"url(#clip9102)\" cx=\"1143.81\" cy=\"410.607\" r=\"14\" fill=\"#009af9\" fill-rule=\"evenodd\" fill-opacity=\"1\" stroke=\"#000000\" stroke-opacity=\"1\" stroke-width=\"3.2\"/>\n<circle clip-path=\"url(#clip9102)\" cx=\"2089.56\" cy=\"1419.11\" r=\"14\" fill=\"#009af9\" fill-rule=\"evenodd\" fill-opacity=\"1\" stroke=\"#000000\" stroke-opacity=\"1\" stroke-width=\"3.2\"/>\n<circle clip-path=\"url(#clip9102)\" cx=\"1319.28\" cy=\"99.2248\" r=\"14\" fill=\"#009af9\" fill-rule=\"evenodd\" fill-opacity=\"1\" stroke=\"#000000\" stroke-opacity=\"1\" stroke-width=\"3.2\"/>\n<circle clip-path=\"url(#clip9102)\" cx=\"2158.48\" cy=\"1325.16\" r=\"14\" fill=\"#009af9\" fill-rule=\"evenodd\" fill-opacity=\"1\" stroke=\"#000000\" stroke-opacity=\"1\" stroke-width=\"3.2\"/>\n<circle clip-path=\"url(#clip9102)\" cx=\"1289.98\" cy=\"123.728\" r=\"14\" fill=\"#009af9\" fill-rule=\"evenodd\" fill-opacity=\"1\" stroke=\"#000000\" stroke-opacity=\"1\" stroke-width=\"3.2\"/>\n<circle clip-path=\"url(#clip9102)\" cx=\"457.676\" cy=\"1072.63\" r=\"14\" fill=\"#009af9\" fill-rule=\"evenodd\" fill-opacity=\"1\" stroke=\"#000000\" stroke-opacity=\"1\" stroke-width=\"3.2\"/>\n<circle clip-path=\"url(#clip9102)\" cx=\"1422.98\" cy=\"114.726\" r=\"14\" fill=\"#009af9\" fill-rule=\"evenodd\" fill-opacity=\"1\" stroke=\"#000000\" stroke-opacity=\"1\" stroke-width=\"3.2\"/>\n<circle clip-path=\"url(#clip9102)\" cx=\"1106.36\" cy=\"517.555\" r=\"14\" fill=\"#009af9\" fill-rule=\"evenodd\" fill-opacity=\"1\" stroke=\"#000000\" stroke-opacity=\"1\" stroke-width=\"3.2\"/>\n<circle clip-path=\"url(#clip9102)\" cx=\"2197.3\" cy=\"1245.76\" r=\"14\" fill=\"#009af9\" fill-rule=\"evenodd\" fill-opacity=\"1\" stroke=\"#000000\" stroke-opacity=\"1\" stroke-width=\"3.2\"/>\n<circle clip-path=\"url(#clip9102)\" cx=\"2152.83\" cy=\"1335.22\" r=\"14\" fill=\"#009af9\" fill-rule=\"evenodd\" fill-opacity=\"1\" stroke=\"#000000\" stroke-opacity=\"1\" stroke-width=\"3.2\"/>\n<circle clip-path=\"url(#clip9102)\" cx=\"2152.48\" cy=\"1335.83\" r=\"14\" fill=\"#009af9\" fill-rule=\"evenodd\" fill-opacity=\"1\" stroke=\"#000000\" stroke-opacity=\"1\" stroke-width=\"3.2\"/>\n<circle clip-path=\"url(#clip9102)\" cx=\"1020.52\" cy=\"785.821\" r=\"14\" fill=\"#009af9\" fill-rule=\"evenodd\" fill-opacity=\"1\" stroke=\"#000000\" stroke-opacity=\"1\" stroke-width=\"3.2\"/>\n<circle clip-path=\"url(#clip9102)\" cx=\"843.234\" cy=\"1282.12\" r=\"14\" fill=\"#009af9\" fill-rule=\"evenodd\" fill-opacity=\"1\" stroke=\"#000000\" stroke-opacity=\"1\" stroke-width=\"3.2\"/>\n<circle clip-path=\"url(#clip9102)\" cx=\"1393.9\" cy=\"94.2416\" r=\"14\" fill=\"#009af9\" fill-rule=\"evenodd\" fill-opacity=\"1\" stroke=\"#000000\" stroke-opacity=\"1\" stroke-width=\"3.2\"/>\n<circle clip-path=\"url(#clip9102)\" cx=\"1502.75\" cy=\"231.308\" r=\"14\" fill=\"#009af9\" fill-rule=\"evenodd\" fill-opacity=\"1\" stroke=\"#000000\" stroke-opacity=\"1\" stroke-width=\"3.2\"/>\n<circle clip-path=\"url(#clip9102)\" cx=\"1951.59\" cy=\"1400.5\" r=\"14\" fill=\"#009af9\" fill-rule=\"evenodd\" fill-opacity=\"1\" stroke=\"#000000\" stroke-opacity=\"1\" stroke-width=\"3.2\"/>\n<circle clip-path=\"url(#clip9102)\" cx=\"2209.53\" cy=\"1217.3\" r=\"14\" fill=\"#009af9\" fill-rule=\"evenodd\" fill-opacity=\"1\" stroke=\"#000000\" stroke-opacity=\"1\" stroke-width=\"3.2\"/>\n<circle clip-path=\"url(#clip9102)\" cx=\"2056.26\" cy=\"1440.52\" r=\"14\" fill=\"#009af9\" fill-rule=\"evenodd\" fill-opacity=\"1\" stroke=\"#000000\" stroke-opacity=\"1\" stroke-width=\"3.2\"/>\n<circle clip-path=\"url(#clip9102)\" cx=\"1232.53\" cy=\"206.4\" r=\"14\" fill=\"#009af9\" fill-rule=\"evenodd\" fill-opacity=\"1\" stroke=\"#000000\" stroke-opacity=\"1\" stroke-width=\"3.2\"/>\n<circle clip-path=\"url(#clip9102)\" cx=\"2056.92\" cy=\"1440.26\" r=\"14\" fill=\"#009af9\" fill-rule=\"evenodd\" fill-opacity=\"1\" stroke=\"#000000\" stroke-opacity=\"1\" stroke-width=\"3.2\"/>\n<circle clip-path=\"url(#clip9102)\" cx=\"679.807\" cy=\"1444.61\" r=\"14\" fill=\"#009af9\" fill-rule=\"evenodd\" fill-opacity=\"1\" stroke=\"#000000\" stroke-opacity=\"1\" stroke-width=\"3.2\"/>\n<circle clip-path=\"url(#clip9102)\" cx=\"251.505\" cy=\"439.649\" r=\"14\" fill=\"#009af9\" fill-rule=\"evenodd\" fill-opacity=\"1\" stroke=\"#000000\" stroke-opacity=\"1\" stroke-width=\"3.2\"/>\n<circle clip-path=\"url(#clip9102)\" cx=\"274.873\" cy=\"506.959\" r=\"14\" fill=\"#009af9\" fill-rule=\"evenodd\" fill-opacity=\"1\" stroke=\"#000000\" stroke-opacity=\"1\" stroke-width=\"3.2\"/>\n<circle clip-path=\"url(#clip9102)\" cx=\"1624.62\" cy=\"544.061\" r=\"14\" fill=\"#009af9\" fill-rule=\"evenodd\" fill-opacity=\"1\" stroke=\"#000000\" stroke-opacity=\"1\" stroke-width=\"3.2\"/>\n<circle clip-path=\"url(#clip9102)\" cx=\"1062.38\" cy=\"652.656\" r=\"14\" fill=\"#009af9\" fill-rule=\"evenodd\" fill-opacity=\"1\" stroke=\"#000000\" stroke-opacity=\"1\" stroke-width=\"3.2\"/>\n<circle clip-path=\"url(#clip9102)\" cx=\"813.499\" cy=\"1338.7\" r=\"14\" fill=\"#009af9\" fill-rule=\"evenodd\" fill-opacity=\"1\" stroke=\"#000000\" stroke-opacity=\"1\" stroke-width=\"3.2\"/>\n<circle clip-path=\"url(#clip9102)\" cx=\"2008.62\" cy=\"1442.46\" r=\"14\" fill=\"#009af9\" fill-rule=\"evenodd\" fill-opacity=\"1\" stroke=\"#000000\" stroke-opacity=\"1\" stroke-width=\"3.2\"/>\n<circle clip-path=\"url(#clip9102)\" cx=\"414.026\" cy=\"942.647\" r=\"14\" fill=\"#009af9\" fill-rule=\"evenodd\" fill-opacity=\"1\" stroke=\"#000000\" stroke-opacity=\"1\" stroke-width=\"3.2\"/>\n<circle clip-path=\"url(#clip9102)\" cx=\"1873.04\" cy=\"1269.76\" r=\"14\" fill=\"#009af9\" fill-rule=\"evenodd\" fill-opacity=\"1\" stroke=\"#000000\" stroke-opacity=\"1\" stroke-width=\"3.2\"/>\n<circle clip-path=\"url(#clip9102)\" cx=\"346.373\" cy=\"728.632\" r=\"14\" fill=\"#009af9\" fill-rule=\"evenodd\" fill-opacity=\"1\" stroke=\"#000000\" stroke-opacity=\"1\" stroke-width=\"3.2\"/>\n<circle clip-path=\"url(#clip9102)\" cx=\"532.475\" cy=\"1262.75\" r=\"14\" fill=\"#009af9\" fill-rule=\"evenodd\" fill-opacity=\"1\" stroke=\"#000000\" stroke-opacity=\"1\" stroke-width=\"3.2\"/>\n<circle clip-path=\"url(#clip9102)\" cx=\"2210.02\" cy=\"1216.13\" r=\"14\" fill=\"#009af9\" fill-rule=\"evenodd\" fill-opacity=\"1\" stroke=\"#000000\" stroke-opacity=\"1\" stroke-width=\"3.2\"/>\n<circle clip-path=\"url(#clip9102)\" cx=\"627.359\" cy=\"1414.3\" r=\"14\" fill=\"#009af9\" fill-rule=\"evenodd\" fill-opacity=\"1\" stroke=\"#000000\" stroke-opacity=\"1\" stroke-width=\"3.2\"/>\n<circle clip-path=\"url(#clip9102)\" cx=\"760.776\" cy=\"1411.02\" r=\"14\" fill=\"#009af9\" fill-rule=\"evenodd\" fill-opacity=\"1\" stroke=\"#000000\" stroke-opacity=\"1\" stroke-width=\"3.2\"/>\n<circle clip-path=\"url(#clip9102)\" cx=\"757.434\" cy=\"1414.31\" r=\"14\" fill=\"#009af9\" fill-rule=\"evenodd\" fill-opacity=\"1\" stroke=\"#000000\" stroke-opacity=\"1\" stroke-width=\"3.2\"/>\n<circle clip-path=\"url(#clip9102)\" cx=\"998.601\" cy=\"855.572\" r=\"14\" fill=\"#009af9\" fill-rule=\"evenodd\" fill-opacity=\"1\" stroke=\"#000000\" stroke-opacity=\"1\" stroke-width=\"3.2\"/>\n<circle clip-path=\"url(#clip9102)\" cx=\"2155.31\" cy=\"1330.85\" r=\"14\" fill=\"#009af9\" fill-rule=\"evenodd\" fill-opacity=\"1\" stroke=\"#000000\" stroke-opacity=\"1\" stroke-width=\"3.2\"/>\n<circle clip-path=\"url(#clip9102)\" cx=\"669.148\" cy=\"1441.75\" r=\"14\" fill=\"#009af9\" fill-rule=\"evenodd\" fill-opacity=\"1\" stroke=\"#000000\" stroke-opacity=\"1\" stroke-width=\"3.2\"/>\n<circle clip-path=\"url(#clip9102)\" cx=\"189.963\" cy=\"283.151\" r=\"14\" fill=\"#009af9\" fill-rule=\"evenodd\" fill-opacity=\"1\" stroke=\"#000000\" stroke-opacity=\"1\" stroke-width=\"3.2\"/>\n<circle clip-path=\"url(#clip9102)\" cx=\"1156.68\" cy=\"376.227\" r=\"14\" fill=\"#009af9\" fill-rule=\"evenodd\" fill-opacity=\"1\" stroke=\"#000000\" stroke-opacity=\"1\" stroke-width=\"3.2\"/>\n<circle clip-path=\"url(#clip9102)\" cx=\"633.861\" cy=\"1420.25\" r=\"14\" fill=\"#009af9\" fill-rule=\"evenodd\" fill-opacity=\"1\" stroke=\"#000000\" stroke-opacity=\"1\" stroke-width=\"3.2\"/>\n<circle clip-path=\"url(#clip9102)\" cx=\"1736.25\" cy=\"895.694\" r=\"14\" fill=\"#009af9\" fill-rule=\"evenodd\" fill-opacity=\"1\" stroke=\"#000000\" stroke-opacity=\"1\" stroke-width=\"3.2\"/>\n<circle clip-path=\"url(#clip9102)\" cx=\"618.145\" cy=\"1404.84\" r=\"14\" fill=\"#009af9\" fill-rule=\"evenodd\" fill-opacity=\"1\" stroke=\"#000000\" stroke-opacity=\"1\" stroke-width=\"3.2\"/>\n<circle clip-path=\"url(#clip9102)\" cx=\"1386.56\" cy=\"91.0389\" r=\"14\" fill=\"#009af9\" fill-rule=\"evenodd\" fill-opacity=\"1\" stroke=\"#000000\" stroke-opacity=\"1\" stroke-width=\"3.2\"/>\n<circle clip-path=\"url(#clip9102)\" cx=\"1699.53\" cy=\"779.199\" r=\"14\" fill=\"#009af9\" fill-rule=\"evenodd\" fill-opacity=\"1\" stroke=\"#000000\" stroke-opacity=\"1\" stroke-width=\"3.2\"/>\n<circle clip-path=\"url(#clip9102)\" cx=\"1775.29\" cy=\"1015.21\" r=\"14\" fill=\"#009af9\" fill-rule=\"evenodd\" fill-opacity=\"1\" stroke=\"#000000\" stroke-opacity=\"1\" stroke-width=\"3.2\"/>\n<circle clip-path=\"url(#clip9102)\" cx=\"1763.5\" cy=\"979.81\" r=\"14\" fill=\"#009af9\" fill-rule=\"evenodd\" fill-opacity=\"1\" stroke=\"#000000\" stroke-opacity=\"1\" stroke-width=\"3.2\"/>\n<circle clip-path=\"url(#clip9102)\" cx=\"563.836\" cy=\"1325.5\" r=\"14\" fill=\"#009af9\" fill-rule=\"evenodd\" fill-opacity=\"1\" stroke=\"#000000\" stroke-opacity=\"1\" stroke-width=\"3.2\"/>\n<circle clip-path=\"url(#clip9102)\" cx=\"1603.31\" cy=\"480.96\" r=\"14\" fill=\"#009af9\" fill-rule=\"evenodd\" fill-opacity=\"1\" stroke=\"#000000\" stroke-opacity=\"1\" stroke-width=\"3.2\"/>\n<circle clip-path=\"url(#clip9102)\" cx=\"860.092\" cy=\"1245.5\" r=\"14\" fill=\"#009af9\" fill-rule=\"evenodd\" fill-opacity=\"1\" stroke=\"#000000\" stroke-opacity=\"1\" stroke-width=\"3.2\"/>\n<circle clip-path=\"url(#clip9102)\" cx=\"1107.43\" cy=\"514.376\" r=\"14\" fill=\"#009af9\" fill-rule=\"evenodd\" fill-opacity=\"1\" stroke=\"#000000\" stroke-opacity=\"1\" stroke-width=\"3.2\"/>\n<circle clip-path=\"url(#clip9102)\" cx=\"1264.19\" cy=\"155.37\" r=\"14\" fill=\"#009af9\" fill-rule=\"evenodd\" fill-opacity=\"1\" stroke=\"#000000\" stroke-opacity=\"1\" stroke-width=\"3.2\"/>\n<circle clip-path=\"url(#clip9102)\" cx=\"1422.89\" cy=\"114.646\" r=\"14\" fill=\"#009af9\" fill-rule=\"evenodd\" fill-opacity=\"1\" stroke=\"#000000\" stroke-opacity=\"1\" stroke-width=\"3.2\"/>\n<circle clip-path=\"url(#clip9102)\" cx=\"883.04\" cy=\"1190.86\" r=\"14\" fill=\"#009af9\" fill-rule=\"evenodd\" fill-opacity=\"1\" stroke=\"#000000\" stroke-opacity=\"1\" stroke-width=\"3.2\"/>\n<circle clip-path=\"url(#clip9102)\" cx=\"1833.83\" cy=\"1177.64\" r=\"14\" fill=\"#009af9\" fill-rule=\"evenodd\" fill-opacity=\"1\" stroke=\"#000000\" stroke-opacity=\"1\" stroke-width=\"3.2\"/>\n<circle clip-path=\"url(#clip9102)\" cx=\"491.224\" cy=\"1164.07\" r=\"14\" fill=\"#009af9\" fill-rule=\"evenodd\" fill-opacity=\"1\" stroke=\"#000000\" stroke-opacity=\"1\" stroke-width=\"3.2\"/>\n<circle clip-path=\"url(#clip9102)\" cx=\"282.587\" cy=\"529.904\" r=\"14\" fill=\"#009af9\" fill-rule=\"evenodd\" fill-opacity=\"1\" stroke=\"#000000\" stroke-opacity=\"1\" stroke-width=\"3.2\"/>\n<circle clip-path=\"url(#clip9102)\" cx=\"489.41\" cy=\"1159.36\" r=\"14\" fill=\"#009af9\" fill-rule=\"evenodd\" fill-opacity=\"1\" stroke=\"#000000\" stroke-opacity=\"1\" stroke-width=\"3.2\"/>\n<circle clip-path=\"url(#clip9102)\" cx=\"746.358\" cy=\"1424.07\" r=\"14\" fill=\"#009af9\" fill-rule=\"evenodd\" fill-opacity=\"1\" stroke=\"#000000\" stroke-opacity=\"1\" stroke-width=\"3.2\"/>\n<circle clip-path=\"url(#clip9102)\" cx=\"1852.64\" cy=\"1223.78\" r=\"14\" fill=\"#009af9\" fill-rule=\"evenodd\" fill-opacity=\"1\" stroke=\"#000000\" stroke-opacity=\"1\" stroke-width=\"3.2\"/>\n<circle clip-path=\"url(#clip9102)\" cx=\"1128.15\" cy=\"454.159\" r=\"14\" fill=\"#009af9\" fill-rule=\"evenodd\" fill-opacity=\"1\" stroke=\"#000000\" stroke-opacity=\"1\" stroke-width=\"3.2\"/>\n<circle clip-path=\"url(#clip9102)\" cx=\"1094.38\" cy=\"553.545\" r=\"14\" fill=\"#009af9\" fill-rule=\"evenodd\" fill-opacity=\"1\" stroke=\"#000000\" stroke-opacity=\"1\" stroke-width=\"3.2\"/>\n<circle clip-path=\"url(#clip9102)\" cx=\"1376.6\" cy=\"87.9763\" r=\"14\" fill=\"#009af9\" fill-rule=\"evenodd\" fill-opacity=\"1\" stroke=\"#000000\" stroke-opacity=\"1\" stroke-width=\"3.2\"/>\n<circle clip-path=\"url(#clip9102)\" cx=\"1925.95\" cy=\"1366.59\" r=\"14\" fill=\"#009af9\" fill-rule=\"evenodd\" fill-opacity=\"1\" stroke=\"#000000\" stroke-opacity=\"1\" stroke-width=\"3.2\"/>\n<circle clip-path=\"url(#clip9102)\" cx=\"617.257\" cy=\"1403.87\" r=\"14\" fill=\"#009af9\" fill-rule=\"evenodd\" fill-opacity=\"1\" stroke=\"#000000\" stroke-opacity=\"1\" stroke-width=\"3.2\"/>\n<circle clip-path=\"url(#clip9102)\" cx=\"964.225\" cy=\"962.775\" r=\"14\" fill=\"#009af9\" fill-rule=\"evenodd\" fill-opacity=\"1\" stroke=\"#000000\" stroke-opacity=\"1\" stroke-width=\"3.2\"/>\n<circle clip-path=\"url(#clip9102)\" cx=\"780.595\" cy=\"1388.27\" r=\"14\" fill=\"#009af9\" fill-rule=\"evenodd\" fill-opacity=\"1\" stroke=\"#000000\" stroke-opacity=\"1\" stroke-width=\"3.2\"/>\n<circle clip-path=\"url(#clip9102)\" cx=\"197.783\" cy=\"301.057\" r=\"14\" fill=\"#009af9\" fill-rule=\"evenodd\" fill-opacity=\"1\" stroke=\"#000000\" stroke-opacity=\"1\" stroke-width=\"3.2\"/>\n<circle clip-path=\"url(#clip9102)\" cx=\"1454.36\" cy=\"150.432\" r=\"14\" fill=\"#009af9\" fill-rule=\"evenodd\" fill-opacity=\"1\" stroke=\"#000000\" stroke-opacity=\"1\" stroke-width=\"3.2\"/>\n<circle clip-path=\"url(#clip9102)\" cx=\"1218.5\" cy=\"233.037\" r=\"14\" fill=\"#009af9\" fill-rule=\"evenodd\" fill-opacity=\"1\" stroke=\"#000000\" stroke-opacity=\"1\" stroke-width=\"3.2\"/>\n<circle clip-path=\"url(#clip9102)\" cx=\"2072.83\" cy=\"1431.9\" r=\"14\" fill=\"#009af9\" fill-rule=\"evenodd\" fill-opacity=\"1\" stroke=\"#000000\" stroke-opacity=\"1\" stroke-width=\"3.2\"/>\n<circle clip-path=\"url(#clip9102)\" cx=\"1238.48\" cy=\"195.839\" r=\"14\" fill=\"#009af9\" fill-rule=\"evenodd\" fill-opacity=\"1\" stroke=\"#000000\" stroke-opacity=\"1\" stroke-width=\"3.2\"/>\n<circle clip-path=\"url(#clip9102)\" cx=\"1631.93\" cy=\"566.257\" r=\"14\" fill=\"#009af9\" fill-rule=\"evenodd\" fill-opacity=\"1\" stroke=\"#000000\" stroke-opacity=\"1\" stroke-width=\"3.2\"/>\n<circle clip-path=\"url(#clip9102)\" cx=\"1886.01\" cy=\"1296.62\" r=\"14\" fill=\"#009af9\" fill-rule=\"evenodd\" fill-opacity=\"1\" stroke=\"#000000\" stroke-opacity=\"1\" stroke-width=\"3.2\"/>\n<circle clip-path=\"url(#clip9102)\" cx=\"1124.28\" cy=\"465.217\" r=\"14\" fill=\"#009af9\" fill-rule=\"evenodd\" fill-opacity=\"1\" stroke=\"#000000\" stroke-opacity=\"1\" stroke-width=\"3.2\"/>\n<path clip-path=\"url(#clip9100)\" d=\"\nM1717.31 251.724 L2280.76 251.724 L2280.76 130.764 L1717.31 130.764  Z\n  \" fill=\"#ffffff\" fill-rule=\"evenodd\" fill-opacity=\"1\"/>\n<polyline clip-path=\"url(#clip9100)\" style=\"stroke:#000000; stroke-width:4; stroke-opacity:1; fill:none\" points=\"\n  1717.31,251.724 2280.76,251.724 2280.76,130.764 1717.31,130.764 1717.31,251.724 \n  \"/>\n<circle clip-path=\"url(#clip9100)\" cx=\"1825.31\" cy=\"191.244\" r=\"21\" fill=\"#009af9\" fill-rule=\"evenodd\" fill-opacity=\"1\" stroke=\"#000000\" stroke-opacity=\"1\" stroke-width=\"3.2\"/>\n<path clip-path=\"url(#clip9100)\" d=\"M 0 0 M1931.55 175.098 L1931.55 179.659 Q1928.89 178.385 1926.53 177.76 Q1924.17 177.135 1921.97 177.135 Q1918.15 177.135 1916.07 178.617 Q1914.01 180.098 1914.01 182.83 Q1914.01 185.121 1915.37 186.302 Q1916.76 187.459 1920.6 188.177 L1923.43 188.756 Q1928.66 189.751 1931.14 192.274 Q1933.64 194.774 1933.64 198.987 Q1933.64 204.01 1930.26 206.603 Q1926.9 209.195 1920.4 209.195 Q1917.94 209.195 1915.17 208.64 Q1912.41 208.084 1909.45 206.996 L1909.45 202.182 Q1912.29 203.779 1915.03 204.589 Q1917.76 205.399 1920.4 205.399 Q1924.4 205.399 1926.58 203.825 Q1928.75 202.251 1928.75 199.334 Q1928.75 196.788 1927.18 195.353 Q1925.63 193.918 1922.06 193.2 L1919.22 192.645 Q1913.98 191.603 1911.65 189.381 Q1909.31 187.158 1909.31 183.2 Q1909.31 178.617 1912.53 175.978 Q1915.77 173.339 1921.44 173.339 Q1923.87 173.339 1926.39 173.779 Q1928.91 174.219 1931.55 175.098 Z\" fill=\"#000000\" fill-rule=\"evenodd\" fill-opacity=\"1\" /><path clip-path=\"url(#clip9100)\" d=\"M 0 0 M1949.89 195.492 Q1944.73 195.492 1942.73 196.672 Q1940.74 197.853 1940.74 200.7 Q1940.74 202.969 1942.23 204.311 Q1943.73 205.631 1946.3 205.631 Q1949.84 205.631 1951.97 203.131 Q1954.12 200.607 1954.12 196.441 L1954.12 195.492 L1949.89 195.492 M1958.38 193.733 L1958.38 208.524 L1954.12 208.524 L1954.12 204.589 Q1952.66 206.95 1950.49 208.084 Q1948.31 209.195 1945.16 209.195 Q1941.18 209.195 1938.82 206.973 Q1936.48 204.728 1936.48 200.978 Q1936.48 196.603 1939.4 194.381 Q1942.34 192.158 1948.15 192.158 L1954.12 192.158 L1954.12 191.742 Q1954.12 188.802 1952.18 187.205 Q1950.26 185.584 1946.76 185.584 Q1944.54 185.584 1942.43 186.117 Q1940.33 186.649 1938.38 187.714 L1938.38 183.779 Q1940.72 182.876 1942.92 182.436 Q1945.12 181.973 1947.2 181.973 Q1952.83 181.973 1955.6 184.89 Q1958.38 187.807 1958.38 193.733 Z\" fill=\"#000000\" fill-rule=\"evenodd\" fill-opacity=\"1\" /><path clip-path=\"url(#clip9100)\" d=\"M 0 0 M1983.04 187.575 Q1984.63 184.705 1986.85 183.339 Q1989.08 181.973 1992.09 181.973 Q1996.14 181.973 1998.34 184.821 Q2000.53 187.645 2000.53 192.876 L2000.53 208.524 L1996.25 208.524 L1996.25 193.015 Q1996.25 189.288 1994.93 187.483 Q1993.61 185.677 1990.91 185.677 Q1987.6 185.677 1985.67 187.876 Q1983.75 190.075 1983.75 193.871 L1983.75 208.524 L1979.47 208.524 L1979.47 193.015 Q1979.47 189.265 1978.15 187.483 Q1976.83 185.677 1974.08 185.677 Q1970.81 185.677 1968.89 187.899 Q1966.97 190.098 1966.97 193.871 L1966.97 208.524 L1962.69 208.524 L1962.69 182.598 L1966.97 182.598 L1966.97 186.626 Q1968.43 184.242 1970.47 183.108 Q1972.5 181.973 1975.3 181.973 Q1978.13 181.973 1980.1 183.408 Q1982.09 184.844 1983.04 187.575 Z\" fill=\"#000000\" fill-rule=\"evenodd\" fill-opacity=\"1\" /><path clip-path=\"url(#clip9100)\" d=\"M 0 0 M2009.12 204.635 L2009.12 218.385 L2004.84 218.385 L2004.84 182.598 L2009.12 182.598 L2009.12 186.533 Q2010.47 184.219 2012.5 183.108 Q2014.56 181.973 2017.41 181.973 Q2022.13 181.973 2025.07 185.723 Q2028.03 189.473 2028.03 195.584 Q2028.03 201.695 2025.07 205.445 Q2022.13 209.195 2017.41 209.195 Q2014.56 209.195 2012.5 208.084 Q2010.47 206.95 2009.12 204.635 M2023.61 195.584 Q2023.61 190.885 2021.67 188.223 Q2019.75 185.538 2016.37 185.538 Q2012.99 185.538 2011.04 188.223 Q2009.12 190.885 2009.12 195.584 Q2009.12 200.283 2011.04 202.969 Q2012.99 205.631 2016.37 205.631 Q2019.75 205.631 2021.67 202.969 Q2023.61 200.283 2023.61 195.584 Z\" fill=\"#000000\" fill-rule=\"evenodd\" fill-opacity=\"1\" /><path clip-path=\"url(#clip9100)\" d=\"M 0 0 M2032.5 172.506 L2036.76 172.506 L2036.76 208.524 L2032.5 208.524 L2032.5 172.506 Z\" fill=\"#000000\" fill-rule=\"evenodd\" fill-opacity=\"1\" /><path clip-path=\"url(#clip9100)\" d=\"M 0 0 M2063.4 194.496 L2063.4 196.58 L2043.82 196.58 Q2044.1 200.978 2046.46 203.293 Q2048.84 205.584 2053.08 205.584 Q2055.53 205.584 2057.83 204.982 Q2060.14 204.381 2062.41 203.177 L2062.41 207.205 Q2060.12 208.177 2057.71 208.686 Q2055.3 209.195 2052.83 209.195 Q2046.62 209.195 2042.99 205.584 Q2039.38 201.973 2039.38 195.816 Q2039.38 189.45 2042.8 185.723 Q2046.25 181.973 2052.09 181.973 Q2057.32 181.973 2060.35 185.353 Q2063.4 188.709 2063.4 194.496 M2059.15 193.246 Q2059.1 189.751 2057.18 187.668 Q2055.28 185.584 2052.13 185.584 Q2048.57 185.584 2046.41 187.598 Q2044.28 189.612 2043.96 193.27 L2059.15 193.246 Z\" fill=\"#000000\" fill-rule=\"evenodd\" fill-opacity=\"1\" /><path clip-path=\"url(#clip9100)\" d=\"M 0 0 M2084.93 186.533 L2084.93 172.506 L2089.19 172.506 L2089.19 208.524 L2084.93 208.524 L2084.93 204.635 Q2083.59 206.95 2081.53 208.084 Q2079.49 209.195 2076.62 209.195 Q2071.92 209.195 2068.96 205.445 Q2066.02 201.695 2066.02 195.584 Q2066.02 189.473 2068.96 185.723 Q2071.92 181.973 2076.62 181.973 Q2079.49 181.973 2081.53 183.108 Q2083.59 184.219 2084.93 186.533 M2070.42 195.584 Q2070.42 200.283 2072.34 202.969 Q2074.28 205.631 2077.66 205.631 Q2081.04 205.631 2082.99 202.969 Q2084.93 200.283 2084.93 195.584 Q2084.93 190.885 2082.99 188.223 Q2081.04 185.538 2077.66 185.538 Q2074.28 185.538 2072.34 188.223 Q2070.42 190.885 2070.42 195.584 Z\" fill=\"#000000\" fill-rule=\"evenodd\" fill-opacity=\"1\" /><path clip-path=\"url(#clip9100)\" d=\"M 0 0 M2112.85 204.635 L2112.85 218.385 L2108.57 218.385 L2108.57 182.598 L2112.85 182.598 L2112.85 186.533 Q2114.19 184.219 2116.23 183.108 Q2118.29 181.973 2121.14 181.973 Q2125.86 181.973 2128.8 185.723 Q2131.76 189.473 2131.76 195.584 Q2131.76 201.695 2128.8 205.445 Q2125.86 209.195 2121.14 209.195 Q2118.29 209.195 2116.23 208.084 Q2114.19 206.95 2112.85 204.635 M2127.34 195.584 Q2127.34 190.885 2125.4 188.223 Q2123.47 185.538 2120.09 185.538 Q2116.71 185.538 2114.77 188.223 Q2112.85 190.885 2112.85 195.584 Q2112.85 200.283 2114.77 202.969 Q2116.71 205.631 2120.09 205.631 Q2123.47 205.631 2125.4 202.969 Q2127.34 200.283 2127.34 195.584 Z\" fill=\"#000000\" fill-rule=\"evenodd\" fill-opacity=\"1\" /><path clip-path=\"url(#clip9100)\" d=\"M 0 0 M2146.27 185.584 Q2142.85 185.584 2140.86 188.27 Q2138.87 190.932 2138.87 195.584 Q2138.87 200.237 2140.84 202.922 Q2142.83 205.584 2146.27 205.584 Q2149.68 205.584 2151.67 202.899 Q2153.66 200.214 2153.66 195.584 Q2153.66 190.978 2151.67 188.293 Q2149.68 185.584 2146.27 185.584 M2146.27 181.973 Q2151.83 181.973 2155 185.584 Q2158.17 189.195 2158.17 195.584 Q2158.17 201.95 2155 205.584 Q2151.83 209.195 2146.27 209.195 Q2140.7 209.195 2137.52 205.584 Q2134.38 201.95 2134.38 195.584 Q2134.38 189.195 2137.52 185.584 Q2140.7 181.973 2146.27 181.973 Z\" fill=\"#000000\" fill-rule=\"evenodd\" fill-opacity=\"1\" /><path clip-path=\"url(#clip9100)\" d=\"M 0 0 M2162.64 182.598 L2166.9 182.598 L2166.9 208.524 L2162.64 208.524 L2162.64 182.598 M2162.64 172.506 L2166.9 172.506 L2166.9 177.899 L2162.64 177.899 L2162.64 172.506 Z\" fill=\"#000000\" fill-rule=\"evenodd\" fill-opacity=\"1\" /><path clip-path=\"url(#clip9100)\" d=\"M 0 0 M2192.92 192.876 L2192.92 208.524 L2188.66 208.524 L2188.66 193.015 Q2188.66 189.334 2187.22 187.506 Q2185.79 185.677 2182.92 185.677 Q2179.47 185.677 2177.48 187.876 Q2175.49 190.075 2175.49 193.871 L2175.49 208.524 L2171.21 208.524 L2171.21 182.598 L2175.49 182.598 L2175.49 186.626 Q2177.02 184.288 2179.08 183.131 Q2181.16 181.973 2183.87 181.973 Q2188.33 181.973 2190.63 184.751 Q2192.92 187.506 2192.92 192.876 Z\" fill=\"#000000\" fill-rule=\"evenodd\" fill-opacity=\"1\" /><path clip-path=\"url(#clip9100)\" d=\"M 0 0 M2201.6 175.237 L2201.6 182.598 L2210.37 182.598 L2210.37 185.908 L2201.6 185.908 L2201.6 199.982 Q2201.6 203.154 2202.46 204.057 Q2203.33 204.959 2206 204.959 L2210.37 204.959 L2210.37 208.524 L2206 208.524 Q2201.07 208.524 2199.19 206.695 Q2197.32 204.844 2197.32 199.982 L2197.32 185.908 L2194.19 185.908 L2194.19 182.598 L2197.32 182.598 L2197.32 175.237 L2201.6 175.237 Z\" fill=\"#000000\" fill-rule=\"evenodd\" fill-opacity=\"1\" /><path clip-path=\"url(#clip9100)\" d=\"M 0 0 M2231.37 183.362 L2231.37 187.39 Q2229.56 186.464 2227.62 186.001 Q2225.67 185.538 2223.59 185.538 Q2220.42 185.538 2218.82 186.51 Q2217.25 187.483 2217.25 189.427 Q2217.25 190.908 2218.38 191.765 Q2219.52 192.598 2222.94 193.362 L2224.4 193.686 Q2228.94 194.658 2230.83 196.441 Q2232.76 198.2 2232.76 201.371 Q2232.76 204.982 2229.89 207.089 Q2227.04 209.195 2222.04 209.195 Q2219.96 209.195 2217.69 208.779 Q2215.44 208.385 2212.94 207.575 L2212.94 203.177 Q2215.3 204.404 2217.59 205.029 Q2219.89 205.631 2222.13 205.631 Q2225.14 205.631 2226.76 204.612 Q2228.38 203.57 2228.38 201.695 Q2228.38 199.959 2227.2 199.033 Q2226.04 198.107 2222.08 197.251 L2220.6 196.904 Q2216.64 196.07 2214.89 194.358 Q2213.13 192.621 2213.13 189.612 Q2213.13 185.955 2215.72 183.964 Q2218.31 181.973 2223.08 181.973 Q2225.44 181.973 2227.52 182.321 Q2229.61 182.668 2231.37 183.362 Z\" fill=\"#000000\" fill-rule=\"evenodd\" fill-opacity=\"1\" /></svg>\n"
     },
     "metadata": {},
     "execution_count": 52
    }
   ],
   "source": [
    "x = rand(Uniform(-5, 5), 100);\n",
    "y = wave(x);\n",
    "model = random_Linear_network(Float64, 1, 64);\n",
    "scatter(x,y,label=\"Sampled points\")"
   ]
  },
  {
   "cell_type": "code",
   "execution_count": 46,
   "metadata": {},
   "outputs": [
    {
     "output_type": "execute_result",
     "data": {
      "text/plain": [
       "4353"
      ]
     },
     "metadata": {},
     "execution_count": 46
    }
   ],
   "source": [
    "nparameters(model)"
   ]
  },
  {
   "cell_type": "code",
   "execution_count": 22,
   "metadata": {},
   "outputs": [],
   "source": [
    "@i function loss!(out!::T, x!::AbstractVector{T}, y!::AbstractVector{T},z!::AbstractVector{T},model::LinearNetwork) where T\n",
    "    for i = 1:length(x!)\n",
    "        @routine begin\n",
    "            @zeros T anc1 anc2\n",
    "            Linear_network!(x![i:i], model,z!)\n",
    "            anc1 += z![1]-y![i]\n",
    "            anc2 += anc1 ^ 2\n",
    "            (~Linear_network!)(x![i:i], model,z!) \n",
    "        end\n",
    "        out! += anc2\n",
    "        ~@routine\n",
    "        @safe z!.= zero(T)\n",
    "    end\n",
    "end"
   ]
  },
  {
   "cell_type": "code",
   "execution_count": 23,
   "metadata": {},
   "outputs": [
    {
     "output_type": "execute_result",
     "data": {
      "text/plain": [
       "loss2 (generic function with 1 method)"
      ]
     },
     "metadata": {},
     "execution_count": 23
    }
   ],
   "source": [
    "function loss2(out::T, x::AbstractVector{T}, y::AbstractVector{T},model::LinearNetwork) where T\n",
    "     for i = 1:length(x)\n",
    "        z=[0.0]\n",
    "        _,model,z=Linear_network!(x[i:i], model,z)\n",
    "        out += (z[1]-y[i])^2\n",
    "        _,model,z=(~Linear_network!)(x[i:i], model,z)\n",
    "    end\n",
    "    return out\n",
    "end"
   ]
  },
  {
   "cell_type": "code",
   "execution_count": 36,
   "metadata": {
    "tags": []
   },
   "outputs": [
    {
     "output_type": "execute_result",
     "data": {
      "text/plain": [
       "885.1313049317013"
      ]
     },
     "metadata": {},
     "execution_count": 36
    }
   ],
   "source": [
    "out=0.0;\n",
    "\n",
    "out=loss2(out, x, y,model);\n",
    "\n",
    "out"
   ]
  },
  {
   "cell_type": "code",
   "execution_count": 37,
   "metadata": {},
   "outputs": [],
   "source": [
    "for i=1:length(model)\n",
    "    model[i].y1.=0.0;\n",
    "    model[i].y1a.=0.0;\n",
    "end"
   ]
  },
  {
   "cell_type": "code",
   "execution_count": 38,
   "metadata": {
    "tags": []
   },
   "outputs": [
    {
     "output_type": "execute_result",
     "data": {
      "text/plain": [
       "885.1313049317013"
      ]
     },
     "metadata": {},
     "execution_count": 38
    }
   ],
   "source": [
    "out=0.0;\n",
    "z=[0.0];\n",
    "\n",
    "out, x, y,z,model=loss!(out, x, y,z,model);\n",
    "out"
   ]
  },
  {
   "cell_type": "code",
   "execution_count": 39,
   "metadata": {},
   "outputs": [
    {
     "output_type": "execute_result",
     "data": {
      "text/plain": [
       "-1.1368683772161603e-13"
      ]
     },
     "metadata": {},
     "execution_count": 39
    }
   ],
   "source": [
    "\n",
    "out, x, y,z,model=(~loss!)(out, x, y,z,model);\n",
    "out"
   ]
  },
  {
   "cell_type": "code",
   "execution_count": 53,
   "metadata": {},
   "outputs": [
    {
     "output_type": "execute_result",
     "data": {
      "text/plain": [
       "BenchmarkTools.Trial: \n",
       "  memory estimate:  154.67 KiB\n",
       "  allocs estimate:  869\n",
       "  --------------\n",
       "  minimum time:     9.625 ms (0.00% GC)\n",
       "  median time:      10.130 ms (0.00% GC)\n",
       "  mean time:        10.134 ms (0.10% GC)\n",
       "  maximum time:     15.471 ms (33.60% GC)\n",
       "  --------------\n",
       "  samples:          494\n",
       "  evals/sample:     1"
      ]
     },
     "metadata": {},
     "execution_count": 53
    }
   ],
   "source": [
    "\n",
    "@benchmark   gout, gx, gy,gz,gmodel= NiLang.AD.Grad(loss!)(out, x, y, z, model;iloss=1)"
   ]
  },
  {
   "cell_type": "code",
   "execution_count": null,
   "metadata": {},
   "outputs": [],
   "source": []
  }
 ]
}