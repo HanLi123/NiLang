{
 "metadata": {
  "language_info": {
   "codemirror_mode": {
    "name": "ipython",
    "version": 3
   },
   "file_extension": ".py",
   "mimetype": "text/x-python",
   "name": "python",
   "nbconvert_exporter": "python",
   "pygments_lexer": "ipython3",
   "version": "3.6.8-final"
  },
  "orig_nbformat": 2,
  "kernelspec": {
   "name": "julia-1.5",
   "display_name": "Julia 1.5.0",
   "language": "julia"
  }
 },
 "nbformat": 4,
 "nbformat_minor": 2,
 "cells": [
  {
   "cell_type": "code",
   "execution_count": 81,
   "metadata": {
    "tags": []
   },
   "outputs": [
    {
     "output_type": "execute_result",
     "data": {
      "text/plain": [
       "gclip! (generic function with 1 method)"
      ]
     },
     "metadata": {},
     "execution_count": 81
    }
   ],
   "source": [
    "using NiLang, NiLang.AD\n",
    "using LinearAlgebra\n",
    "using DelimitedFiles\n",
    "using Plots\n",
    "using Distributions\n",
    "include(\"Adam.jl\")"
   ]
  },
  {
   "cell_type": "code",
   "execution_count": 82,
   "metadata": {},
   "outputs": [],
   "source": [
    "struct Linear{T}\n",
    "    W1::Matrix{T}\n",
    "    b1::Vector{T}\n",
    "    y1::Vector{T}\n",
    "    y1a::Vector{T}\n",
    "end\n",
    "NiLang.AD.GVar(x::Linear) = Linear(GVar(x.W1), GVar(x.b1),GVar(x.y1), GVar(x.y1a));"
   ]
  },
  {
   "cell_type": "code",
   "execution_count": 83,
   "metadata": {},
   "outputs": [],
   "source": [
    "\"\"\"Apply a single linear transformation.\"\"\"\n",
    "@i function linear_layer!(x::AbstractVector{T}, layer::Linear{T},y!::AbstractVector{T};method=\"relu\") where T\n",
    "    @routine @invcheckoff begin\n",
    "        i_affine!(layer.y1, layer.W1, layer.b1, x)\n",
    "        end\n",
    "    \n",
    "        @inbounds for i=1:length(layer.y1)\n",
    "            if (method==\"relu\", ~)\n",
    "                if (layer.y1[i] >= 0, ~)\n",
    "                    y![i] += layer.y1[i]\n",
    "                    layer.y1a[i] += layer.y1[i]\n",
    "                end\n",
    "            else\n",
    "                y![i] += tanh(layer.y1[i])\n",
    "                layer.y1a[i] +=  tanh(layer.y1[i])\n",
    "            end\n",
    "        end\n",
    "    ~@routine\n",
    "    ## clean up accumulated rounding error, since this memory is reused.\n",
    "    @safe layer.y1 .= zero(T)\n",
    "end"
   ]
  },
  {
   "cell_type": "code",
   "execution_count": 84,
   "metadata": {},
   "outputs": [],
   "source": [
    "\"\"\"Apply a single linear transformation.\"\"\"\n",
    "@i function linear_layer!(x::AbstractVector{T}, layer::Linear{T};method=\"relu\") where T\n",
    "    @routine @invcheckoff begin\n",
    "        i_affine!(layer.y1, layer.W1, layer.b1, x)\n",
    "        end\n",
    "    \n",
    "        @inbounds for i=1:length(layer.y1)\n",
    "            if (method==\"relu\", ~)\n",
    "                if (layer.y1[i] >= 0, ~)\n",
    "                    layer.y1a[i] += layer.y1[i]\n",
    "                end\n",
    "            else\n",
    "                layer.y1a[i] +=  tanh(layer.y1[i])\n",
    "            end\n",
    "        end\n",
    "    ~@routine\n",
    "    @safe layer.y1 .= zero(T)\n",
    "end"
   ]
  },
  {
   "cell_type": "code",
   "execution_count": 85,
   "metadata": {},
   "outputs": [
    {
     "output_type": "execute_result",
     "data": {
      "text/plain": [
       "Array{Linear{T},1} where T"
      ]
     },
     "metadata": {},
     "execution_count": 85
    }
   ],
   "source": [
    "const LinearNetwork{T} = Vector{Linear{T}}\n"
   ]
  },
  {
   "cell_type": "code",
   "execution_count": 86,
   "metadata": {},
   "outputs": [],
   "source": [
    "@i function Linear_network!(x!::AbstractVector{T}, network::LinearNetwork{T},y!::AbstractVector{T}) where T\n",
    "    @invcheckoff for i=1:length(network)\n",
    "        if (i==length(network), ~)\n",
    "            @inbounds linear_layer!(network[i-1].y1a, network[i], y!,method=\"tanh\")\n",
    "        else\n",
    "            if (i==1, ~)\n",
    "                @inbounds linear_layer!(x!, network[i],method=\"relu\")\n",
    "            else\n",
    "                @inbounds linear_layer!(network[i-1].y1a, network[i],method=\"relu\")\n",
    "            end\n",
    "        end\n",
    "    end\n",
    "end"
   ]
  },
  {
   "cell_type": "code",
   "execution_count": 87,
   "metadata": {},
   "outputs": [
    {
     "output_type": "execute_result",
     "data": {
      "text/plain": [
       "random_Linear_network (generic function with 2 methods)"
      ]
     },
     "metadata": {},
     "execution_count": 87
    }
   ],
   "source": [
    "function random_Linear_network(nparams::Int, nhidden::Int)\n",
    "    random_Linear_network(Float64, nin, nhidden)\n",
    "end\n"
   ]
  },
  {
   "cell_type": "code",
   "execution_count": 88,
   "metadata": {},
   "outputs": [
    {
     "output_type": "execute_result",
     "data": {
      "text/plain": [
       "random_Linear_network (generic function with 2 methods)"
      ]
     },
     "metadata": {},
     "execution_count": 88
    }
   ],
   "source": [
    "function random_Linear_network(::Type{T}, nin::Int, nhidden::Int) where T\n",
    "    y1 = zeros(T, nhidden)\n",
    "    model=Linear{T}[]\n",
    "    push!(model,Linear{T}(randn(T,  nhidden, nin), randn(T, nhidden),zeros(Float64, nhidden),zeros(Float64, nhidden)))\n",
    "    push!(model,Linear{T}(randn(T,  nhidden, nhidden), randn(T, nhidden),zeros(Float64, nhidden),zeros(Float64, nhidden)))\n",
    "    push!(model,Linear{T}(randn(Float64, 1, nhidden), randn(Float64, 1),zeros(Float64, 1),zeros(Float64, 1)))\n",
    "    return model\n",
    "end"
   ]
  },
  {
   "cell_type": "code",
   "execution_count": 89,
   "metadata": {},
   "outputs": [],
   "source": [
    "x=randn(Float64,1);\n",
    "model = random_Linear_network(Float64, 1, 64);\n"
   ]
  },
  {
   "cell_type": "code",
   "execution_count": 90,
   "metadata": {},
   "outputs": [
    {
     "output_type": "execute_result",
     "data": {
      "text/plain": [
       "([0.6232488881408105], Linear{Float64}[Linear{Float64}([-1.8152246488052541; -0.0959262180400028; … ; -1.120062219456915; 0.5668158737989929], [-1.463453340618402, 0.01932280382133191, -0.4472638826247398, 0.06353666798056191, -1.4665411989395245, 1.699661735301573, -0.2396960097794108, 0.6593799062819924, -0.15240831762472856, 0.20277211816719945  …  1.069492746144972, -0.1501777738643446, -1.1005444452283035, 1.0233627362392248, -0.9043350082868544, 0.15837461140806816, 1.391696673876852, -0.20557543498222666, 0.9429227566995791, -0.029792598018800832], [0.0, 0.0, 0.0, 0.0, 0.0, 0.0, 0.0, 0.0, 0.0, 0.0  …  0.0, 0.0, 0.0, 0.0, 0.0, 0.0, 0.0, 0.0, 0.0, 0.0], [0.0, 0.0, 0.0, 0.0, 0.0, 2.7327731599177065, 1.0638296900464683, 0.3579548184220694, 0.0, 0.8671684514047718  …  0.3671391508834444, 0.027827683101942224, 0.0, 1.1842883268966944, 0.0, 0.7415156475750678, 0.779595942077032, 0.0, 0.24484522377452844, 0.3234747651069834]), Linear{Float64}([0.15355490054071297 1.0441533573042252 … 0.4543685642356038 -1.2583355607383995; -0.3985710695329861 0.3991624310471163 … 0.28961346099905133 0.22102842974810327; … ; -1.3859389586186543 1.9453137216285912 … 0.3125666326505286 -0.8433906953218854; 0.4159350994412709 1.355443032822086 … 0.1805003985957208 -0.5292635051506674], [0.6372002433322298, 0.5541994780826137, -0.4157144264258088, -0.43347007141588445, -0.23084928508970898, 0.8970718409156909, 3.227093445979411, 0.09743621171853516, -1.4674228112066814, -0.25519124397714976  …  -0.3305859003637725, 1.2148847337907243, -0.6074911379218382, 0.23606831749985824, -0.7798872189935652, -0.7170770951364484, 1.777594174051433, -0.5642353442863902, 0.6424067722628138, -0.6755442698211979], [0.0, 0.0, 0.0, 0.0, 0.0, 0.0, 0.0, 0.0, 0.0, 0.0  …  0.0, 0.0, 0.0, 0.0, 0.0, 0.0, 0.0, 0.0, 0.0, 0.0], [7.551616798383135, 3.9628895401352313, 3.8488167142903116, 8.128675311294328, 0.0, 0.0, 11.088101688956964, 9.043144396391568, 12.088654048232979, 0.0  …  0.0, 0.0, 0.0, 4.417477773442456, 0.0, 0.0, 12.406379504979855, 4.26747475743484, 11.788085897631568, 18.642671685919282]), Linear{Float64}([-2.6529901583449704 1.0487693850014923 … -1.763400315020235 -0.9694485295402793], [0.11713054829368409], [0.0], [-1.0])], [-1.0])"
      ]
     },
     "metadata": {},
     "execution_count": 90
    }
   ],
   "source": [
    "y=[0.0]\n",
    "x,model,y=Linear_network!(x, model,y) "
   ]
  },
  {
   "cell_type": "code",
   "execution_count": 91,
   "metadata": {},
   "outputs": [],
   "source": [
    "x,model,y=(~Linear_network!)(x, model,y); "
   ]
  },
  {
   "cell_type": "code",
   "execution_count": 92,
   "metadata": {},
   "outputs": [
    {
     "output_type": "execute_result",
     "data": {
      "text/plain": [
       "3-element Array{Linear{Float64},1}:\n",
       " Linear{Float64}([-1.8152246488052541; -0.0959262180400028; … ; -1.120062219456915; 0.5668158737989929], [-1.463453340618402, 0.01932280382133191, -0.4472638826247398, 0.06353666798056191, -1.4665411989395245, 1.699661735301573, -0.2396960097794108, 0.6593799062819924, -0.15240831762472856, 0.20277211816719945  …  1.069492746144972, -0.1501777738643446, -1.1005444452283035, 1.0233627362392248, -0.9043350082868544, 0.15837461140806816, 1.391696673876852, -0.20557543498222666, 0.9429227566995791, -0.029792598018800832], [0.0, 0.0, 1.1102230246251565e-16, 0.0, -5.551115123125783e-17, 0.0, 0.0, 0.0, 0.0, 0.0  …  0.0, 0.0, 7.979727989493313e-17, -8.326672684688674e-17, -2.7755575615628914e-17, 0.0, 0.0, -1.734723475976807e-18, 0.0, 0.0], [0.0, 0.0, 0.0, 0.0, 0.0, 0.0, 0.0, 0.0, 0.0, 0.0  …  0.0, 0.0, 0.0, 0.0, 0.0, 0.0, 0.0, 0.0, 0.0, 0.0])\n",
       " Linear{Float64}([0.15355490054071297 1.0441533573042252 … 0.4543685642356038 -1.2583355607383995; -0.3985710695329861 0.3991624310471163 … 0.28961346099905133 0.22102842974810327; … ; -1.3859389586186543 1.9453137216285912 … 0.3125666326505286 -0.8433906953218854; 0.4159350994412709 1.355443032822086 … 0.1805003985957208 -0.5292635051506674], [0.6372002433322298, 0.5541994780826137, -0.4157144264258088, -0.43347007141588445, -0.23084928508970898, 0.8970718409156909, 3.227093445979411, 0.09743621171853516, -1.4674228112066814, -0.25519124397714976  …  -0.3305859003637725, 1.2148847337907243, -0.6074911379218382, 0.23606831749985824, -0.7798872189935652, -0.7170770951364484, 1.777594174051433, -0.5642353442863902, 0.6424067722628138, -0.6755442698211979], [1.3322676295501878e-15, 2.220446049250313e-16, -8.881784197001252e-16, 0.0, 0.0, 0.0, -8.881784197001252e-16, -1.1102230246251565e-16, 0.0, 3.3306690738754696e-16  …  0.0, 2.220446049250313e-16, -2.220446049250313e-16, 6.661338147750939e-16, 1.1102230246251565e-16, -2.3314683517128287e-15, -4.440892098500626e-15, -8.881784197001252e-16, 1.1102230246251565e-16, -4.440892098500626e-15], [0.0, 0.0, 0.0, 0.0, 0.0, 0.0, 0.0, 0.0, 0.0, 0.0  …  0.0, 0.0, 0.0, 0.0, 0.0, 0.0, 0.0, 0.0, 0.0, 0.0])\n",
       " Linear{Float64}([-2.6529901583449704 1.0487693850014923 … -1.763400315020235 -0.9694485295402793], [0.11713054829368409], [7.105427357601002e-15], [0.0])"
      ]
     },
     "metadata": {},
     "execution_count": 92
    }
   ],
   "source": [
    "model"
   ]
  },
  {
   "cell_type": "code",
   "execution_count": 93,
   "metadata": {},
   "outputs": [
    {
     "output_type": "execute_result",
     "data": {
      "text/plain": [
       "nparameters (generic function with 2 methods)"
      ]
     },
     "metadata": {},
     "execution_count": 93
    }
   ],
   "source": [
    "nparameters(n::Linear) = length(n.W1) + length(n.b1)\n",
    "nparameters(n::LinearNetwork) = sum(nparameters, n)"
   ]
  },
  {
   "cell_type": "code",
   "execution_count": 94,
   "metadata": {},
   "outputs": [
    {
     "output_type": "execute_result",
     "data": {
      "text/plain": [
       "collect_params!"
      ]
     },
     "metadata": {},
     "execution_count": 94
    }
   ],
   "source": [
    "\"\"\"collect parameters in the `layer` into a vector `out`.\"\"\"\n",
    "function collect_params!(out, layer::Linear)\n",
    "    a, b= length(layer.W1), length(layer.b1)\n",
    "    out[1:a] .= vec(layer.W1)\n",
    "    out[a+1:a+b] .= layer.b1\n",
    "    return out\n",
    "end"
   ]
  },
  {
   "cell_type": "code",
   "execution_count": 95,
   "metadata": {},
   "outputs": [
    {
     "output_type": "execute_result",
     "data": {
      "text/plain": [
       "dispatch_params! (generic function with 2 methods)"
      ]
     },
     "metadata": {},
     "execution_count": 95
    }
   ],
   "source": [
    "function dispatch_params!(layer::Linear, out)\n",
    "    a, b= length(layer.W1), length(layer.b1)\n",
    "    vec(layer.W1) .= out[1:a]\n",
    "    layer.b1 .= out[a+1:a+b]\n",
    "    return layer\n",
    "end"
   ]
  },
  {
   "cell_type": "code",
   "execution_count": 96,
   "metadata": {},
   "outputs": [
    {
     "output_type": "execute_result",
     "data": {
      "text/plain": [
       "collect_params (generic function with 1 method)"
      ]
     },
     "metadata": {},
     "execution_count": 96
    }
   ],
   "source": [
    "function collect_params(n::LinearNetwork)\n",
    "    out = zeros(Float64, nparameters(n))\n",
    "    k = 0\n",
    "    for layer in n\n",
    "        np = nparameters(layer)\n",
    "        collect_params!(view(out, k+1:k+np), layer)\n",
    "        k += np\n",
    "    end\n",
    "    return out\n",
    "end"
   ]
  },
  {
   "cell_type": "code",
   "execution_count": 97,
   "metadata": {},
   "outputs": [
    {
     "output_type": "execute_result",
     "data": {
      "text/plain": [
       "dispatch_params! (generic function with 2 methods)"
      ]
     },
     "metadata": {},
     "execution_count": 97
    }
   ],
   "source": [
    "function dispatch_params!(network::LinearNetwork, out)\n",
    "    k = 0\n",
    "    for layer in network\n",
    "        np = nparameters(layer)\n",
    "        dispatch_params!(layer, view(out, k+1:k+np))\n",
    "        k += np\n",
    "    end\n",
    "    return network\n",
    "end"
   ]
  },
  {
   "cell_type": "code",
   "execution_count": 98,
   "metadata": {},
   "outputs": [],
   "source": [
    "struct SineWave\n",
    "    amplitude::Float32\n",
    "    phase_shift::Float32\n",
    "end\n",
    "SineWave() = SineWave(rand(Uniform(0.1, 5)), rand(Uniform(0, 2pi)))\n",
    "\n",
    "(s::SineWave)(x::AbstractArray) = s.amplitude .* sin.(x .+ s.phase_shift)\n",
    "\n",
    "function Base.show(io::IO, s::SineWave)\n",
    "    print(io, \"SineWave(amplitude = \", s.amplitude, \", phase shift = \", s.phase_shift, \")\")\n",
    "end"
   ]
  },
  {
   "cell_type": "code",
   "execution_count": 99,
   "metadata": {},
   "outputs": [
    {
     "output_type": "execute_result",
     "data": {
      "text/plain": [
       "SineWave(amplitude = 4.0, phase shift = 1.0)"
      ]
     },
     "metadata": {},
     "execution_count": 99
    }
   ],
   "source": [
    "wave = SineWave(4, 1)\n"
   ]
  },
  {
   "cell_type": "code",
   "execution_count": 100,
   "metadata": {},
   "outputs": [
    {
     "output_type": "execute_result",
     "data": {
      "image/svg+xml": "<?xml version=\"1.0\" encoding=\"utf-8\"?>\n<svg xmlns=\"http://www.w3.org/2000/svg\" xmlns:xlink=\"http://www.w3.org/1999/xlink\" width=\"600\" height=\"400\" viewBox=\"0 0 2400 1600\">\n<defs>\n  <clipPath id=\"clip720\">\n    <rect x=\"0\" y=\"0\" width=\"2400\" height=\"1600\"/>\n  </clipPath>\n</defs>\n<path clip-path=\"url(#clip720)\" d=\"\nM0 1600 L2400 1600 L2400 0 L0 0  Z\n  \" fill=\"#ffffff\" fill-rule=\"evenodd\" fill-opacity=\"1\"/>\n<defs>\n  <clipPath id=\"clip721\">\n    <rect x=\"480\" y=\"0\" width=\"1681\" height=\"1600\"/>\n  </clipPath>\n</defs>\n<path clip-path=\"url(#clip720)\" d=\"\nM126.969 1486.45 L2352.76 1486.45 L2352.76 47.2441 L126.969 47.2441  Z\n  \" fill=\"#ffffff\" fill-rule=\"evenodd\" fill-opacity=\"1\"/>\n<defs>\n  <clipPath id=\"clip722\">\n    <rect x=\"126\" y=\"47\" width=\"2227\" height=\"1440\"/>\n  </clipPath>\n</defs>\n<polyline clip-path=\"url(#clip722)\" style=\"stroke:#000000; stroke-width:2; stroke-opacity:0.1; fill:none\" points=\"\n  393.246,1486.45 393.246,47.2441 \n  \"/>\n<polyline clip-path=\"url(#clip722)\" style=\"stroke:#000000; stroke-width:2; stroke-opacity:0.1; fill:none\" points=\"\n  825.612,1486.45 825.612,47.2441 \n  \"/>\n<polyline clip-path=\"url(#clip722)\" style=\"stroke:#000000; stroke-width:2; stroke-opacity:0.1; fill:none\" points=\"\n  1257.98,1486.45 1257.98,47.2441 \n  \"/>\n<polyline clip-path=\"url(#clip722)\" style=\"stroke:#000000; stroke-width:2; stroke-opacity:0.1; fill:none\" points=\"\n  1690.34,1486.45 1690.34,47.2441 \n  \"/>\n<polyline clip-path=\"url(#clip722)\" style=\"stroke:#000000; stroke-width:2; stroke-opacity:0.1; fill:none\" points=\"\n  2122.71,1486.45 2122.71,47.2441 \n  \"/>\n<polyline clip-path=\"url(#clip722)\" style=\"stroke:#000000; stroke-width:2; stroke-opacity:0.1; fill:none\" points=\"\n  126.969,1447.45 2352.76,1447.45 \n  \"/>\n<polyline clip-path=\"url(#clip722)\" style=\"stroke:#000000; stroke-width:2; stroke-opacity:0.1; fill:none\" points=\"\n  126.969,1107.52 2352.76,1107.52 \n  \"/>\n<polyline clip-path=\"url(#clip722)\" style=\"stroke:#000000; stroke-width:2; stroke-opacity:0.1; fill:none\" points=\"\n  126.969,767.583 2352.76,767.583 \n  \"/>\n<polyline clip-path=\"url(#clip722)\" style=\"stroke:#000000; stroke-width:2; stroke-opacity:0.1; fill:none\" points=\"\n  126.969,427.648 2352.76,427.648 \n  \"/>\n<polyline clip-path=\"url(#clip722)\" style=\"stroke:#000000; stroke-width:2; stroke-opacity:0.1; fill:none\" points=\"\n  126.969,87.714 2352.76,87.714 \n  \"/>\n<polyline clip-path=\"url(#clip720)\" style=\"stroke:#000000; stroke-width:4; stroke-opacity:1; fill:none\" points=\"\n  126.969,1486.45 2352.76,1486.45 \n  \"/>\n<polyline clip-path=\"url(#clip720)\" style=\"stroke:#000000; stroke-width:4; stroke-opacity:1; fill:none\" points=\"\n  126.969,1486.45 126.969,47.2441 \n  \"/>\n<polyline clip-path=\"url(#clip720)\" style=\"stroke:#000000; stroke-width:4; stroke-opacity:1; fill:none\" points=\"\n  393.246,1486.45 393.246,1469.18 \n  \"/>\n<polyline clip-path=\"url(#clip720)\" style=\"stroke:#000000; stroke-width:4; stroke-opacity:1; fill:none\" points=\"\n  825.612,1486.45 825.612,1469.18 \n  \"/>\n<polyline clip-path=\"url(#clip720)\" style=\"stroke:#000000; stroke-width:4; stroke-opacity:1; fill:none\" points=\"\n  1257.98,1486.45 1257.98,1469.18 \n  \"/>\n<polyline clip-path=\"url(#clip720)\" style=\"stroke:#000000; stroke-width:4; stroke-opacity:1; fill:none\" points=\"\n  1690.34,1486.45 1690.34,1469.18 \n  \"/>\n<polyline clip-path=\"url(#clip720)\" style=\"stroke:#000000; stroke-width:4; stroke-opacity:1; fill:none\" points=\"\n  2122.71,1486.45 2122.71,1469.18 \n  \"/>\n<polyline clip-path=\"url(#clip720)\" style=\"stroke:#000000; stroke-width:4; stroke-opacity:1; fill:none\" points=\"\n  126.969,1447.45 153.678,1447.45 \n  \"/>\n<polyline clip-path=\"url(#clip720)\" style=\"stroke:#000000; stroke-width:4; stroke-opacity:1; fill:none\" points=\"\n  126.969,1107.52 153.678,1107.52 \n  \"/>\n<polyline clip-path=\"url(#clip720)\" style=\"stroke:#000000; stroke-width:4; stroke-opacity:1; fill:none\" points=\"\n  126.969,767.583 153.678,767.583 \n  \"/>\n<polyline clip-path=\"url(#clip720)\" style=\"stroke:#000000; stroke-width:4; stroke-opacity:1; fill:none\" points=\"\n  126.969,427.648 153.678,427.648 \n  \"/>\n<polyline clip-path=\"url(#clip720)\" style=\"stroke:#000000; stroke-width:4; stroke-opacity:1; fill:none\" points=\"\n  126.969,87.714 153.678,87.714 \n  \"/>\n<path clip-path=\"url(#clip720)\" d=\"M 0 0 M373.257 1525.04 L385.734 1525.04 L385.734 1528.83 L373.257 1528.83 L373.257 1525.04 Z\" fill=\"#000000\" fill-rule=\"evenodd\" fill-opacity=\"1\" /><path clip-path=\"url(#clip720)\" d=\"M 0 0 M403.651 1509.43 L391.845 1527.88 L403.651 1527.88 L403.651 1509.43 M402.424 1505.36 L408.303 1505.36 L408.303 1527.88 L413.234 1527.88 L413.234 1531.77 L408.303 1531.77 L408.303 1539.92 L403.651 1539.92 L403.651 1531.77 L388.049 1531.77 L388.049 1527.26 L402.424 1505.36 Z\" fill=\"#000000\" fill-rule=\"evenodd\" fill-opacity=\"1\" /><path clip-path=\"url(#clip720)\" d=\"M 0 0 M806.665 1525.04 L819.142 1525.04 L819.142 1528.83 L806.665 1528.83 L806.665 1525.04 Z\" fill=\"#000000\" fill-rule=\"evenodd\" fill-opacity=\"1\" /><path clip-path=\"url(#clip720)\" d=\"M 0 0 M828.239 1535.98 L844.559 1535.98 L844.559 1539.92 L822.614 1539.92 L822.614 1535.98 Q825.276 1533.23 829.86 1528.6 Q834.466 1523.95 835.647 1522.61 Q837.892 1520.08 838.772 1518.35 Q839.674 1516.59 839.674 1514.9 Q839.674 1512.14 837.73 1510.41 Q835.809 1508.67 832.707 1508.67 Q830.508 1508.67 828.054 1509.43 Q825.624 1510.2 822.846 1511.75 L822.846 1507.03 Q825.67 1505.89 828.124 1505.31 Q830.577 1504.73 832.614 1504.73 Q837.985 1504.73 841.179 1507.42 Q844.373 1510.11 844.373 1514.6 Q844.373 1516.73 843.563 1518.65 Q842.776 1520.54 840.67 1523.14 Q840.091 1523.81 836.989 1527.03 Q833.887 1530.22 828.239 1535.98 Z\" fill=\"#000000\" fill-rule=\"evenodd\" fill-opacity=\"1\" /><path clip-path=\"url(#clip720)\" d=\"M 0 0 M1257.98 1508.44 Q1254.37 1508.44 1252.54 1512 Q1250.73 1515.55 1250.73 1522.67 Q1250.73 1529.78 1252.54 1533.35 Q1254.37 1536.89 1257.98 1536.89 Q1261.61 1536.89 1263.42 1533.35 Q1265.25 1529.78 1265.25 1522.67 Q1265.25 1515.55 1263.42 1512 Q1261.61 1508.44 1257.98 1508.44 M1257.98 1504.73 Q1263.79 1504.73 1266.84 1509.34 Q1269.92 1513.92 1269.92 1522.67 Q1269.92 1531.4 1266.84 1536.01 Q1263.79 1540.59 1257.98 1540.59 Q1252.17 1540.59 1249.09 1536.01 Q1246.03 1531.4 1246.03 1522.67 Q1246.03 1513.92 1249.09 1509.34 Q1252.17 1504.73 1257.98 1504.73 Z\" fill=\"#000000\" fill-rule=\"evenodd\" fill-opacity=\"1\" /><path clip-path=\"url(#clip720)\" d=\"M 0 0 M1685 1535.98 L1701.32 1535.98 L1701.32 1539.92 L1679.37 1539.92 L1679.37 1535.98 Q1682.03 1533.23 1686.62 1528.6 Q1691.22 1523.95 1692.4 1522.61 Q1694.65 1520.08 1695.53 1518.35 Q1696.43 1516.59 1696.43 1514.9 Q1696.43 1512.14 1694.49 1510.41 Q1692.57 1508.67 1689.46 1508.67 Q1687.27 1508.67 1684.81 1509.43 Q1682.38 1510.2 1679.6 1511.75 L1679.6 1507.03 Q1682.43 1505.89 1684.88 1505.31 Q1687.34 1504.73 1689.37 1504.73 Q1694.74 1504.73 1697.94 1507.42 Q1701.13 1510.11 1701.13 1514.6 Q1701.13 1516.73 1700.32 1518.65 Q1699.53 1520.54 1697.43 1523.14 Q1696.85 1523.81 1693.75 1527.03 Q1690.65 1530.22 1685 1535.98 Z\" fill=\"#000000\" fill-rule=\"evenodd\" fill-opacity=\"1\" /><path clip-path=\"url(#clip720)\" d=\"M 0 0 M2125.72 1509.43 L2113.91 1527.88 L2125.72 1527.88 L2125.72 1509.43 M2124.49 1505.36 L2130.37 1505.36 L2130.37 1527.88 L2135.3 1527.88 L2135.3 1531.77 L2130.37 1531.77 L2130.37 1539.92 L2125.72 1539.92 L2125.72 1531.77 L2110.12 1531.77 L2110.12 1527.26 L2124.49 1505.36 Z\" fill=\"#000000\" fill-rule=\"evenodd\" fill-opacity=\"1\" /><path clip-path=\"url(#clip720)\" d=\"M 0 0 M62.9921 1449.85 L75.4689 1449.85 L75.4689 1453.64 L62.9921 1453.64 L62.9921 1449.85 Z\" fill=\"#000000\" fill-rule=\"evenodd\" fill-opacity=\"1\" /><path clip-path=\"url(#clip720)\" d=\"M 0 0 M93.3855 1434.25 L81.58 1452.69 L93.3855 1452.69 L93.3855 1434.25 M92.1586 1430.17 L98.0382 1430.17 L98.0382 1452.69 L102.969 1452.69 L102.969 1456.58 L98.0382 1456.58 L98.0382 1464.73 L93.3855 1464.73 L93.3855 1456.58 L77.7837 1456.58 L77.7837 1452.07 L92.1586 1430.17 Z\" fill=\"#000000\" fill-rule=\"evenodd\" fill-opacity=\"1\" /><path clip-path=\"url(#clip720)\" d=\"M 0 0 M65.0754 1109.91 L77.5522 1109.91 L77.5522 1113.71 L65.0754 1113.71 L65.0754 1109.91 Z\" fill=\"#000000\" fill-rule=\"evenodd\" fill-opacity=\"1\" /><path clip-path=\"url(#clip720)\" d=\"M 0 0 M86.6494 1120.86 L102.969 1120.86 L102.969 1124.8 L81.0244 1124.8 L81.0244 1120.86 Q83.6865 1118.11 88.2698 1113.48 Q92.8762 1108.83 94.0568 1107.48 Q96.3021 1104.96 97.1818 1103.22 Q98.0845 1101.46 98.0845 1099.77 Q98.0845 1097.02 96.1401 1095.28 Q94.2188 1093.55 91.117 1093.55 Q88.9179 1093.55 86.4642 1094.31 Q84.0337 1095.08 81.2559 1096.63 L81.2559 1091.9 Q84.08 1090.77 86.5337 1090.19 Q88.9874 1089.61 91.0244 1089.61 Q96.3947 1089.61 99.5892 1092.3 Q102.784 1094.98 102.784 1099.47 Q102.784 1101.6 101.973 1103.52 Q101.186 1105.42 99.0799 1108.02 Q98.5012 1108.69 95.3994 1111.9 Q92.2975 1115.1 86.6494 1120.86 Z\" fill=\"#000000\" fill-rule=\"evenodd\" fill-opacity=\"1\" /><path clip-path=\"url(#clip720)\" d=\"M 0 0 M91.0244 753.382 Q87.4133 753.382 85.5846 756.946 Q83.7791 760.488 83.7791 767.618 Q83.7791 774.724 85.5846 778.289 Q87.4133 781.831 91.0244 781.831 Q94.6586 781.831 96.4642 778.289 Q98.2929 774.724 98.2929 767.618 Q98.2929 760.488 96.4642 756.946 Q94.6586 753.382 91.0244 753.382 M91.0244 749.678 Q96.8345 749.678 99.8901 754.284 Q102.969 758.868 102.969 767.618 Q102.969 776.344 99.8901 780.951 Q96.8345 785.534 91.0244 785.534 Q85.2142 785.534 82.1355 780.951 Q79.08 776.344 79.08 767.618 Q79.08 758.868 82.1355 754.284 Q85.2142 749.678 91.0244 749.678 Z\" fill=\"#000000\" fill-rule=\"evenodd\" fill-opacity=\"1\" /><path clip-path=\"url(#clip720)\" d=\"M 0 0 M86.6494 440.993 L102.969 440.993 L102.969 444.928 L81.0244 444.928 L81.0244 440.993 Q83.6865 438.239 88.2698 433.609 Q92.8762 428.956 94.0568 427.614 Q96.3021 425.091 97.1818 423.354 Q98.0845 421.595 98.0845 419.905 Q98.0845 417.151 96.1401 415.415 Q94.2188 413.679 91.117 413.679 Q88.9179 413.679 86.4642 414.443 Q84.0337 415.206 81.2559 416.757 L81.2559 412.035 Q84.08 410.901 86.5337 410.322 Q88.9874 409.743 91.0244 409.743 Q96.3947 409.743 99.5892 412.429 Q102.784 415.114 102.784 419.605 Q102.784 421.734 101.973 423.655 Q101.186 425.554 99.0799 428.146 Q98.5012 428.817 95.3994 432.035 Q92.2975 435.229 86.6494 440.993 Z\" fill=\"#000000\" fill-rule=\"evenodd\" fill-opacity=\"1\" /><path clip-path=\"url(#clip720)\" d=\"M 0 0 M93.3855 74.508 L81.58 92.957 L93.3855 92.957 L93.3855 74.508 M92.1586 70.434 L98.0382 70.434 L98.0382 92.957 L102.969 92.957 L102.969 96.8459 L98.0382 96.8459 L98.0382 104.994 L93.3855 104.994 L93.3855 96.8459 L77.7837 96.8459 L77.7837 92.332 L92.1586 70.434 Z\" fill=\"#000000\" fill-rule=\"evenodd\" fill-opacity=\"1\" /><circle clip-path=\"url(#clip722)\" cx=\"637.679\" cy=\"1417.38\" r=\"14\" fill=\"#009af9\" fill-rule=\"evenodd\" fill-opacity=\"1\" stroke=\"#000000\" stroke-opacity=\"1\" stroke-width=\"3.2\"/>\n<circle clip-path=\"url(#clip722)\" cx=\"1193.33\" cy=\"329.105\" r=\"14\" fill=\"#009af9\" fill-rule=\"evenodd\" fill-opacity=\"1\" stroke=\"#000000\" stroke-opacity=\"1\" stroke-width=\"3.2\"/>\n<circle clip-path=\"url(#clip722)\" cx=\"940.63\" cy=\"1074.25\" r=\"14\" fill=\"#009af9\" fill-rule=\"evenodd\" fill-opacity=\"1\" stroke=\"#000000\" stroke-opacity=\"1\" stroke-width=\"3.2\"/>\n<circle clip-path=\"url(#clip722)\" cx=\"344.796\" cy=\"711.544\" r=\"14\" fill=\"#009af9\" fill-rule=\"evenodd\" fill-opacity=\"1\" stroke=\"#000000\" stroke-opacity=\"1\" stroke-width=\"3.2\"/>\n<circle clip-path=\"url(#clip722)\" cx=\"220.212\" cy=\"351.383\" r=\"14\" fill=\"#009af9\" fill-rule=\"evenodd\" fill-opacity=\"1\" stroke=\"#000000\" stroke-opacity=\"1\" stroke-width=\"3.2\"/>\n<circle clip-path=\"url(#clip722)\" cx=\"431.353\" cy=\"980.07\" r=\"14\" fill=\"#009af9\" fill-rule=\"evenodd\" fill-opacity=\"1\" stroke=\"#000000\" stroke-opacity=\"1\" stroke-width=\"3.2\"/>\n<circle clip-path=\"url(#clip722)\" cx=\"189.963\" cy=\"280.474\" r=\"14\" fill=\"#009af9\" fill-rule=\"evenodd\" fill-opacity=\"1\" stroke=\"#000000\" stroke-opacity=\"1\" stroke-width=\"3.2\"/>\n<circle clip-path=\"url(#clip722)\" cx=\"2016.7\" cy=\"1433.52\" r=\"14\" fill=\"#009af9\" fill-rule=\"evenodd\" fill-opacity=\"1\" stroke=\"#000000\" stroke-opacity=\"1\" stroke-width=\"3.2\"/>\n<circle clip-path=\"url(#clip722)\" cx=\"1753.16\" cy=\"868.481\" r=\"14\" fill=\"#009af9\" fill-rule=\"evenodd\" fill-opacity=\"1\" stroke=\"#000000\" stroke-opacity=\"1\" stroke-width=\"3.2\"/>\n<circle clip-path=\"url(#clip722)\" cx=\"1016.21\" cy=\"847.844\" r=\"14\" fill=\"#009af9\" fill-rule=\"evenodd\" fill-opacity=\"1\" stroke=\"#000000\" stroke-opacity=\"1\" stroke-width=\"3.2\"/>\n<circle clip-path=\"url(#clip722)\" cx=\"613.286\" cy=\"1390.74\" r=\"14\" fill=\"#009af9\" fill-rule=\"evenodd\" fill-opacity=\"1\" stroke=\"#000000\" stroke-opacity=\"1\" stroke-width=\"3.2\"/>\n<circle clip-path=\"url(#clip722)\" cx=\"1304\" cy=\"130.798\" r=\"14\" fill=\"#009af9\" fill-rule=\"evenodd\" fill-opacity=\"1\" stroke=\"#000000\" stroke-opacity=\"1\" stroke-width=\"3.2\"/>\n<circle clip-path=\"url(#clip722)\" cx=\"411.323\" cy=\"919.408\" r=\"14\" fill=\"#009af9\" fill-rule=\"evenodd\" fill-opacity=\"1\" stroke=\"#000000\" stroke-opacity=\"1\" stroke-width=\"3.2\"/>\n<circle clip-path=\"url(#clip722)\" cx=\"872.623\" cy=\"1246.95\" r=\"14\" fill=\"#009af9\" fill-rule=\"evenodd\" fill-opacity=\"1\" stroke=\"#000000\" stroke-opacity=\"1\" stroke-width=\"3.2\"/>\n<circle clip-path=\"url(#clip722)\" cx=\"2287.18\" cy=\"1106.82\" r=\"14\" fill=\"#009af9\" fill-rule=\"evenodd\" fill-opacity=\"1\" stroke=\"#000000\" stroke-opacity=\"1\" stroke-width=\"3.2\"/>\n<circle clip-path=\"url(#clip722)\" cx=\"591.901\" cy=\"1360.84\" r=\"14\" fill=\"#009af9\" fill-rule=\"evenodd\" fill-opacity=\"1\" stroke=\"#000000\" stroke-opacity=\"1\" stroke-width=\"3.2\"/>\n<circle clip-path=\"url(#clip722)\" cx=\"1462.02\" cy=\"134.476\" r=\"14\" fill=\"#009af9\" fill-rule=\"evenodd\" fill-opacity=\"1\" stroke=\"#000000\" stroke-opacity=\"1\" stroke-width=\"3.2\"/>\n<circle clip-path=\"url(#clip722)\" cx=\"1375.37\" cy=\"87.9763\" r=\"14\" fill=\"#009af9\" fill-rule=\"evenodd\" fill-opacity=\"1\" stroke=\"#000000\" stroke-opacity=\"1\" stroke-width=\"3.2\"/>\n<circle clip-path=\"url(#clip722)\" cx=\"1434.69\" cy=\"108.289\" r=\"14\" fill=\"#009af9\" fill-rule=\"evenodd\" fill-opacity=\"1\" stroke=\"#000000\" stroke-opacity=\"1\" stroke-width=\"3.2\"/>\n<circle clip-path=\"url(#clip722)\" cx=\"1229.9\" cy=\"247.891\" r=\"14\" fill=\"#009af9\" fill-rule=\"evenodd\" fill-opacity=\"1\" stroke=\"#000000\" stroke-opacity=\"1\" stroke-width=\"3.2\"/>\n<circle clip-path=\"url(#clip722)\" cx=\"987.016\" cy=\"938.018\" r=\"14\" fill=\"#009af9\" fill-rule=\"evenodd\" fill-opacity=\"1\" stroke=\"#000000\" stroke-opacity=\"1\" stroke-width=\"3.2\"/>\n<circle clip-path=\"url(#clip722)\" cx=\"1902.24\" cy=\"1273.19\" r=\"14\" fill=\"#009af9\" fill-rule=\"evenodd\" fill-opacity=\"1\" stroke=\"#000000\" stroke-opacity=\"1\" stroke-width=\"3.2\"/>\n<circle clip-path=\"url(#clip722)\" cx=\"686.762\" cy=\"1445.72\" r=\"14\" fill=\"#009af9\" fill-rule=\"evenodd\" fill-opacity=\"1\" stroke=\"#000000\" stroke-opacity=\"1\" stroke-width=\"3.2\"/>\n<circle clip-path=\"url(#clip722)\" cx=\"1804.31\" cy=\"1023.29\" r=\"14\" fill=\"#009af9\" fill-rule=\"evenodd\" fill-opacity=\"1\" stroke=\"#000000\" stroke-opacity=\"1\" stroke-width=\"3.2\"/>\n<circle clip-path=\"url(#clip722)\" cx=\"469.849\" cy=\"1091.1\" r=\"14\" fill=\"#009af9\" fill-rule=\"evenodd\" fill-opacity=\"1\" stroke=\"#000000\" stroke-opacity=\"1\" stroke-width=\"3.2\"/>\n<circle clip-path=\"url(#clip722)\" cx=\"216.006\" cy=\"341.004\" r=\"14\" fill=\"#009af9\" fill-rule=\"evenodd\" fill-opacity=\"1\" stroke=\"#000000\" stroke-opacity=\"1\" stroke-width=\"3.2\"/>\n<circle clip-path=\"url(#clip722)\" cx=\"1792.61\" cy=\"988.815\" r=\"14\" fill=\"#009af9\" fill-rule=\"evenodd\" fill-opacity=\"1\" stroke=\"#000000\" stroke-opacity=\"1\" stroke-width=\"3.2\"/>\n<circle clip-path=\"url(#clip722)\" cx=\"1436.01\" cy=\"109.309\" r=\"14\" fill=\"#009af9\" fill-rule=\"evenodd\" fill-opacity=\"1\" stroke=\"#000000\" stroke-opacity=\"1\" stroke-width=\"3.2\"/>\n<circle clip-path=\"url(#clip722)\" cx=\"454.217\" cy=\"1047.06\" r=\"14\" fill=\"#009af9\" fill-rule=\"evenodd\" fill-opacity=\"1\" stroke=\"#000000\" stroke-opacity=\"1\" stroke-width=\"3.2\"/>\n<circle clip-path=\"url(#clip722)\" cx=\"1042.4\" cy=\"765.67\" r=\"14\" fill=\"#009af9\" fill-rule=\"evenodd\" fill-opacity=\"1\" stroke=\"#000000\" stroke-opacity=\"1\" stroke-width=\"3.2\"/>\n<circle clip-path=\"url(#clip722)\" cx=\"1770.47\" cy=\"921.931\" r=\"14\" fill=\"#009af9\" fill-rule=\"evenodd\" fill-opacity=\"1\" stroke=\"#000000\" stroke-opacity=\"1\" stroke-width=\"3.2\"/>\n<circle clip-path=\"url(#clip722)\" cx=\"1979.25\" cy=\"1399.95\" r=\"14\" fill=\"#009af9\" fill-rule=\"evenodd\" fill-opacity=\"1\" stroke=\"#000000\" stroke-opacity=\"1\" stroke-width=\"3.2\"/>\n<circle clip-path=\"url(#clip722)\" cx=\"1181.82\" cy=\"357.382\" r=\"14\" fill=\"#009af9\" fill-rule=\"evenodd\" fill-opacity=\"1\" stroke=\"#000000\" stroke-opacity=\"1\" stroke-width=\"3.2\"/>\n<circle clip-path=\"url(#clip722)\" cx=\"2289.76\" cy=\"1099.75\" r=\"14\" fill=\"#009af9\" fill-rule=\"evenodd\" fill-opacity=\"1\" stroke=\"#000000\" stroke-opacity=\"1\" stroke-width=\"3.2\"/>\n<circle clip-path=\"url(#clip722)\" cx=\"1079.42\" cy=\"649.84\" r=\"14\" fill=\"#009af9\" fill-rule=\"evenodd\" fill-opacity=\"1\" stroke=\"#000000\" stroke-opacity=\"1\" stroke-width=\"3.2\"/>\n<circle clip-path=\"url(#clip722)\" cx=\"327.135\" cy=\"656.439\" r=\"14\" fill=\"#009af9\" fill-rule=\"evenodd\" fill-opacity=\"1\" stroke=\"#000000\" stroke-opacity=\"1\" stroke-width=\"3.2\"/>\n<circle clip-path=\"url(#clip722)\" cx=\"1112.58\" cy=\"548.937\" r=\"14\" fill=\"#009af9\" fill-rule=\"evenodd\" fill-opacity=\"1\" stroke=\"#000000\" stroke-opacity=\"1\" stroke-width=\"3.2\"/>\n<circle clip-path=\"url(#clip722)\" cx=\"648.942\" cy=\"1426.91\" r=\"14\" fill=\"#009af9\" fill-rule=\"evenodd\" fill-opacity=\"1\" stroke=\"#000000\" stroke-opacity=\"1\" stroke-width=\"3.2\"/>\n<circle clip-path=\"url(#clip722)\" cx=\"1731.45\" cy=\"800.591\" r=\"14\" fill=\"#009af9\" fill-rule=\"evenodd\" fill-opacity=\"1\" stroke=\"#000000\" stroke-opacity=\"1\" stroke-width=\"3.2\"/>\n<circle clip-path=\"url(#clip722)\" cx=\"1697.16\" cy=\"692.917\" r=\"14\" fill=\"#009af9\" fill-rule=\"evenodd\" fill-opacity=\"1\" stroke=\"#000000\" stroke-opacity=\"1\" stroke-width=\"3.2\"/>\n<circle clip-path=\"url(#clip722)\" cx=\"746.954\" cy=\"1432.95\" r=\"14\" fill=\"#009af9\" fill-rule=\"evenodd\" fill-opacity=\"1\" stroke=\"#000000\" stroke-opacity=\"1\" stroke-width=\"3.2\"/>\n<circle clip-path=\"url(#clip722)\" cx=\"2151.58\" cy=\"1388.05\" r=\"14\" fill=\"#009af9\" fill-rule=\"evenodd\" fill-opacity=\"1\" stroke=\"#000000\" stroke-opacity=\"1\" stroke-width=\"3.2\"/>\n<circle clip-path=\"url(#clip722)\" cx=\"1193.98\" cy=\"327.54\" r=\"14\" fill=\"#009af9\" fill-rule=\"evenodd\" fill-opacity=\"1\" stroke=\"#000000\" stroke-opacity=\"1\" stroke-width=\"3.2\"/>\n<circle clip-path=\"url(#clip722)\" cx=\"2097.57\" cy=\"1437.5\" r=\"14\" fill=\"#009af9\" fill-rule=\"evenodd\" fill-opacity=\"1\" stroke=\"#000000\" stroke-opacity=\"1\" stroke-width=\"3.2\"/>\n<circle clip-path=\"url(#clip722)\" cx=\"2256.29\" cy=\"1187.26\" r=\"14\" fill=\"#009af9\" fill-rule=\"evenodd\" fill-opacity=\"1\" stroke=\"#000000\" stroke-opacity=\"1\" stroke-width=\"3.2\"/>\n<circle clip-path=\"url(#clip722)\" cx=\"1012.73\" cy=\"858.727\" r=\"14\" fill=\"#009af9\" fill-rule=\"evenodd\" fill-opacity=\"1\" stroke=\"#000000\" stroke-opacity=\"1\" stroke-width=\"3.2\"/>\n<circle clip-path=\"url(#clip722)\" cx=\"1676.02\" cy=\"627.278\" r=\"14\" fill=\"#009af9\" fill-rule=\"evenodd\" fill-opacity=\"1\" stroke=\"#000000\" stroke-opacity=\"1\" stroke-width=\"3.2\"/>\n<circle clip-path=\"url(#clip722)\" cx=\"1658.17\" cy=\"572.889\" r=\"14\" fill=\"#009af9\" fill-rule=\"evenodd\" fill-opacity=\"1\" stroke=\"#000000\" stroke-opacity=\"1\" stroke-width=\"3.2\"/>\n<circle clip-path=\"url(#clip722)\" cx=\"920.451\" cy=\"1129.47\" r=\"14\" fill=\"#009af9\" fill-rule=\"evenodd\" fill-opacity=\"1\" stroke=\"#000000\" stroke-opacity=\"1\" stroke-width=\"3.2\"/>\n<circle clip-path=\"url(#clip722)\" cx=\"523.749\" cy=\"1228.65\" r=\"14\" fill=\"#009af9\" fill-rule=\"evenodd\" fill-opacity=\"1\" stroke=\"#000000\" stroke-opacity=\"1\" stroke-width=\"3.2\"/>\n<circle clip-path=\"url(#clip722)\" cx=\"1781.5\" cy=\"955.521\" r=\"14\" fill=\"#009af9\" fill-rule=\"evenodd\" fill-opacity=\"1\" stroke=\"#000000\" stroke-opacity=\"1\" stroke-width=\"3.2\"/>\n<circle clip-path=\"url(#clip722)\" cx=\"1554.01\" cy=\"293.213\" r=\"14\" fill=\"#009af9\" fill-rule=\"evenodd\" fill-opacity=\"1\" stroke=\"#000000\" stroke-opacity=\"1\" stroke-width=\"3.2\"/>\n<circle clip-path=\"url(#clip722)\" cx=\"980.457\" cy=\"957.905\" r=\"14\" fill=\"#009af9\" fill-rule=\"evenodd\" fill-opacity=\"1\" stroke=\"#000000\" stroke-opacity=\"1\" stroke-width=\"3.2\"/>\n<circle clip-path=\"url(#clip722)\" cx=\"1391.67\" cy=\"88.4843\" r=\"14\" fill=\"#009af9\" fill-rule=\"evenodd\" fill-opacity=\"1\" stroke=\"#000000\" stroke-opacity=\"1\" stroke-width=\"3.2\"/>\n<circle clip-path=\"url(#clip722)\" cx=\"1715.9\" cy=\"751.687\" r=\"14\" fill=\"#009af9\" fill-rule=\"evenodd\" fill-opacity=\"1\" stroke=\"#000000\" stroke-opacity=\"1\" stroke-width=\"3.2\"/>\n<circle clip-path=\"url(#clip722)\" cx=\"898.924\" cy=\"1184.89\" r=\"14\" fill=\"#009af9\" fill-rule=\"evenodd\" fill-opacity=\"1\" stroke=\"#000000\" stroke-opacity=\"1\" stroke-width=\"3.2\"/>\n<circle clip-path=\"url(#clip722)\" cx=\"1914.41\" cy=\"1297.96\" r=\"14\" fill=\"#009af9\" fill-rule=\"evenodd\" fill-opacity=\"1\" stroke=\"#000000\" stroke-opacity=\"1\" stroke-width=\"3.2\"/>\n<circle clip-path=\"url(#clip722)\" cx=\"743.923\" cy=\"1434.84\" r=\"14\" fill=\"#009af9\" fill-rule=\"evenodd\" fill-opacity=\"1\" stroke=\"#000000\" stroke-opacity=\"1\" stroke-width=\"3.2\"/>\n<circle clip-path=\"url(#clip722)\" cx=\"1141.49\" cy=\"465.059\" r=\"14\" fill=\"#009af9\" fill-rule=\"evenodd\" fill-opacity=\"1\" stroke=\"#000000\" stroke-opacity=\"1\" stroke-width=\"3.2\"/>\n<circle clip-path=\"url(#clip722)\" cx=\"1617.32\" cy=\"454.004\" r=\"14\" fill=\"#009af9\" fill-rule=\"evenodd\" fill-opacity=\"1\" stroke=\"#000000\" stroke-opacity=\"1\" stroke-width=\"3.2\"/>\n<circle clip-path=\"url(#clip722)\" cx=\"1102.59\" cy=\"578.886\" r=\"14\" fill=\"#009af9\" fill-rule=\"evenodd\" fill-opacity=\"1\" stroke=\"#000000\" stroke-opacity=\"1\" stroke-width=\"3.2\"/>\n<circle clip-path=\"url(#clip722)\" cx=\"577.97\" cy=\"1338.23\" r=\"14\" fill=\"#009af9\" fill-rule=\"evenodd\" fill-opacity=\"1\" stroke=\"#000000\" stroke-opacity=\"1\" stroke-width=\"3.2\"/>\n<circle clip-path=\"url(#clip722)\" cx=\"684.528\" cy=\"1445.18\" r=\"14\" fill=\"#009af9\" fill-rule=\"evenodd\" fill-opacity=\"1\" stroke=\"#000000\" stroke-opacity=\"1\" stroke-width=\"3.2\"/>\n<circle clip-path=\"url(#clip722)\" cx=\"1665.13\" cy=\"593.961\" r=\"14\" fill=\"#009af9\" fill-rule=\"evenodd\" fill-opacity=\"1\" stroke=\"#000000\" stroke-opacity=\"1\" stroke-width=\"3.2\"/>\n<circle clip-path=\"url(#clip722)\" cx=\"754.619\" cy=\"1427.58\" r=\"14\" fill=\"#009af9\" fill-rule=\"evenodd\" fill-opacity=\"1\" stroke=\"#000000\" stroke-opacity=\"1\" stroke-width=\"3.2\"/>\n<circle clip-path=\"url(#clip722)\" cx=\"1361.39\" cy=\"90.6163\" r=\"14\" fill=\"#009af9\" fill-rule=\"evenodd\" fill-opacity=\"1\" stroke=\"#000000\" stroke-opacity=\"1\" stroke-width=\"3.2\"/>\n<circle clip-path=\"url(#clip722)\" cx=\"1516.94\" cy=\"217.069\" r=\"14\" fill=\"#009af9\" fill-rule=\"evenodd\" fill-opacity=\"1\" stroke=\"#000000\" stroke-opacity=\"1\" stroke-width=\"3.2\"/>\n<circle clip-path=\"url(#clip722)\" cx=\"2182.87\" cy=\"1341.47\" r=\"14\" fill=\"#009af9\" fill-rule=\"evenodd\" fill-opacity=\"1\" stroke=\"#000000\" stroke-opacity=\"1\" stroke-width=\"3.2\"/>\n<circle clip-path=\"url(#clip722)\" cx=\"2240.34\" cy=\"1225.53\" r=\"14\" fill=\"#009af9\" fill-rule=\"evenodd\" fill-opacity=\"1\" stroke=\"#000000\" stroke-opacity=\"1\" stroke-width=\"3.2\"/>\n<circle clip-path=\"url(#clip722)\" cx=\"2096.54\" cy=\"1438.05\" r=\"14\" fill=\"#009af9\" fill-rule=\"evenodd\" fill-opacity=\"1\" stroke=\"#000000\" stroke-opacity=\"1\" stroke-width=\"3.2\"/>\n<circle clip-path=\"url(#clip722)\" cx=\"1497.22\" cy=\"183.012\" r=\"14\" fill=\"#009af9\" fill-rule=\"evenodd\" fill-opacity=\"1\" stroke=\"#000000\" stroke-opacity=\"1\" stroke-width=\"3.2\"/>\n<circle clip-path=\"url(#clip722)\" cx=\"1396.78\" cy=\"89.4394\" r=\"14\" fill=\"#009af9\" fill-rule=\"evenodd\" fill-opacity=\"1\" stroke=\"#000000\" stroke-opacity=\"1\" stroke-width=\"3.2\"/>\n<circle clip-path=\"url(#clip722)\" cx=\"1436.44\" cy=\"109.65\" r=\"14\" fill=\"#009af9\" fill-rule=\"evenodd\" fill-opacity=\"1\" stroke=\"#000000\" stroke-opacity=\"1\" stroke-width=\"3.2\"/>\n<circle clip-path=\"url(#clip722)\" cx=\"2238.35\" cy=\"1230.14\" r=\"14\" fill=\"#009af9\" fill-rule=\"evenodd\" fill-opacity=\"1\" stroke=\"#000000\" stroke-opacity=\"1\" stroke-width=\"3.2\"/>\n<circle clip-path=\"url(#clip722)\" cx=\"326.992\" cy=\"655.994\" r=\"14\" fill=\"#009af9\" fill-rule=\"evenodd\" fill-opacity=\"1\" stroke=\"#000000\" stroke-opacity=\"1\" stroke-width=\"3.2\"/>\n<circle clip-path=\"url(#clip722)\" cx=\"380.967\" cy=\"825.163\" r=\"14\" fill=\"#009af9\" fill-rule=\"evenodd\" fill-opacity=\"1\" stroke=\"#000000\" stroke-opacity=\"1\" stroke-width=\"3.2\"/>\n<circle clip-path=\"url(#clip722)\" cx=\"540.324\" cy=\"1265.56\" r=\"14\" fill=\"#009af9\" fill-rule=\"evenodd\" fill-opacity=\"1\" stroke=\"#000000\" stroke-opacity=\"1\" stroke-width=\"3.2\"/>\n<circle clip-path=\"url(#clip722)\" cx=\"297.184\" cy=\"564.875\" r=\"14\" fill=\"#009af9\" fill-rule=\"evenodd\" fill-opacity=\"1\" stroke=\"#000000\" stroke-opacity=\"1\" stroke-width=\"3.2\"/>\n<circle clip-path=\"url(#clip722)\" cx=\"677.965\" cy=\"1443.18\" r=\"14\" fill=\"#009af9\" fill-rule=\"evenodd\" fill-opacity=\"1\" stroke=\"#000000\" stroke-opacity=\"1\" stroke-width=\"3.2\"/>\n<circle clip-path=\"url(#clip722)\" cx=\"2185.93\" cy=\"1336.26\" r=\"14\" fill=\"#009af9\" fill-rule=\"evenodd\" fill-opacity=\"1\" stroke=\"#000000\" stroke-opacity=\"1\" stroke-width=\"3.2\"/>\n<circle clip-path=\"url(#clip722)\" cx=\"1099.54\" cy=\"588.137\" r=\"14\" fill=\"#009af9\" fill-rule=\"evenodd\" fill-opacity=\"1\" stroke=\"#000000\" stroke-opacity=\"1\" stroke-width=\"3.2\"/>\n<circle clip-path=\"url(#clip722)\" cx=\"558.812\" cy=\"1303.28\" r=\"14\" fill=\"#009af9\" fill-rule=\"evenodd\" fill-opacity=\"1\" stroke=\"#000000\" stroke-opacity=\"1\" stroke-width=\"3.2\"/>\n<circle clip-path=\"url(#clip722)\" cx=\"611.242\" cy=\"1388.14\" r=\"14\" fill=\"#009af9\" fill-rule=\"evenodd\" fill-opacity=\"1\" stroke=\"#000000\" stroke-opacity=\"1\" stroke-width=\"3.2\"/>\n<circle clip-path=\"url(#clip722)\" cx=\"2027.77\" cy=\"1439.66\" r=\"14\" fill=\"#009af9\" fill-rule=\"evenodd\" fill-opacity=\"1\" stroke=\"#000000\" stroke-opacity=\"1\" stroke-width=\"3.2\"/>\n<circle clip-path=\"url(#clip722)\" cx=\"1083.48\" cy=\"637.314\" r=\"14\" fill=\"#009af9\" fill-rule=\"evenodd\" fill-opacity=\"1\" stroke=\"#000000\" stroke-opacity=\"1\" stroke-width=\"3.2\"/>\n<circle clip-path=\"url(#clip722)\" cx=\"998.198\" cy=\"903.764\" r=\"14\" fill=\"#009af9\" fill-rule=\"evenodd\" fill-opacity=\"1\" stroke=\"#000000\" stroke-opacity=\"1\" stroke-width=\"3.2\"/>\n<circle clip-path=\"url(#clip722)\" cx=\"1100.05\" cy=\"586.6\" r=\"14\" fill=\"#009af9\" fill-rule=\"evenodd\" fill-opacity=\"1\" stroke=\"#000000\" stroke-opacity=\"1\" stroke-width=\"3.2\"/>\n<circle clip-path=\"url(#clip722)\" cx=\"1044.46\" cy=\"759.195\" r=\"14\" fill=\"#009af9\" fill-rule=\"evenodd\" fill-opacity=\"1\" stroke=\"#000000\" stroke-opacity=\"1\" stroke-width=\"3.2\"/>\n<circle clip-path=\"url(#clip722)\" cx=\"1991.4\" cy=\"1412.98\" r=\"14\" fill=\"#009af9\" fill-rule=\"evenodd\" fill-opacity=\"1\" stroke=\"#000000\" stroke-opacity=\"1\" stroke-width=\"3.2\"/>\n<circle clip-path=\"url(#clip722)\" cx=\"1099.25\" cy=\"589.003\" r=\"14\" fill=\"#009af9\" fill-rule=\"evenodd\" fill-opacity=\"1\" stroke=\"#000000\" stroke-opacity=\"1\" stroke-width=\"3.2\"/>\n<circle clip-path=\"url(#clip722)\" cx=\"1461.36\" cy=\"133.725\" r=\"14\" fill=\"#009af9\" fill-rule=\"evenodd\" fill-opacity=\"1\" stroke=\"#000000\" stroke-opacity=\"1\" stroke-width=\"3.2\"/>\n<circle clip-path=\"url(#clip722)\" cx=\"1526.13\" cy=\"234.507\" r=\"14\" fill=\"#009af9\" fill-rule=\"evenodd\" fill-opacity=\"1\" stroke=\"#000000\" stroke-opacity=\"1\" stroke-width=\"3.2\"/>\n<circle clip-path=\"url(#clip722)\" cx=\"822.576\" cy=\"1344.78\" r=\"14\" fill=\"#009af9\" fill-rule=\"evenodd\" fill-opacity=\"1\" stroke=\"#000000\" stroke-opacity=\"1\" stroke-width=\"3.2\"/>\n<circle clip-path=\"url(#clip722)\" cx=\"252.572\" cy=\"436.207\" r=\"14\" fill=\"#009af9\" fill-rule=\"evenodd\" fill-opacity=\"1\" stroke=\"#000000\" stroke-opacity=\"1\" stroke-width=\"3.2\"/>\n<circle clip-path=\"url(#clip722)\" cx=\"862.413\" cy=\"1269.17\" r=\"14\" fill=\"#009af9\" fill-rule=\"evenodd\" fill-opacity=\"1\" stroke=\"#000000\" stroke-opacity=\"1\" stroke-width=\"3.2\"/>\n<circle clip-path=\"url(#clip722)\" cx=\"1339.53\" cy=\"100.408\" r=\"14\" fill=\"#009af9\" fill-rule=\"evenodd\" fill-opacity=\"1\" stroke=\"#000000\" stroke-opacity=\"1\" stroke-width=\"3.2\"/>\n<circle clip-path=\"url(#clip722)\" cx=\"754.344\" cy=\"1427.78\" r=\"14\" fill=\"#009af9\" fill-rule=\"evenodd\" fill-opacity=\"1\" stroke=\"#000000\" stroke-opacity=\"1\" stroke-width=\"3.2\"/>\n<circle clip-path=\"url(#clip722)\" cx=\"1805.47\" cy=\"1026.66\" r=\"14\" fill=\"#009af9\" fill-rule=\"evenodd\" fill-opacity=\"1\" stroke=\"#000000\" stroke-opacity=\"1\" stroke-width=\"3.2\"/>\n<circle clip-path=\"url(#clip722)\" cx=\"2289.26\" cy=\"1101.14\" r=\"14\" fill=\"#009af9\" fill-rule=\"evenodd\" fill-opacity=\"1\" stroke=\"#000000\" stroke-opacity=\"1\" stroke-width=\"3.2\"/>\n<circle clip-path=\"url(#clip722)\" cx=\"484.19\" cy=\"1130.03\" r=\"14\" fill=\"#009af9\" fill-rule=\"evenodd\" fill-opacity=\"1\" stroke=\"#000000\" stroke-opacity=\"1\" stroke-width=\"3.2\"/>\n<path clip-path=\"url(#clip720)\" d=\"\nM1707.81 216.178 L2278.56 216.178 L2278.56 95.2176 L1707.81 95.2176  Z\n  \" fill=\"#ffffff\" fill-rule=\"evenodd\" fill-opacity=\"1\"/>\n<polyline clip-path=\"url(#clip720)\" style=\"stroke:#000000; stroke-width:4; stroke-opacity:1; fill:none\" points=\"\n  1707.81,216.178 2278.56,216.178 2278.56,95.2176 1707.81,95.2176 1707.81,216.178 \n  \"/>\n<circle clip-path=\"url(#clip720)\" cx=\"1806.73\" cy=\"155.698\" r=\"23\" fill=\"#009af9\" fill-rule=\"evenodd\" fill-opacity=\"1\" stroke=\"#000000\" stroke-opacity=\"1\" stroke-width=\"5.12\"/>\n<circle clip-path=\"url(#clip720)\" cx=\"1806.73\" cy=\"155.698\" r=\"23\" fill=\"#009af9\" fill-rule=\"evenodd\" fill-opacity=\"1\" stroke=\"#000000\" stroke-opacity=\"1\" stroke-width=\"5.12\"/>\n<circle clip-path=\"url(#clip720)\" cx=\"1806.73\" cy=\"155.698\" r=\"23\" fill=\"#009af9\" fill-rule=\"evenodd\" fill-opacity=\"1\" stroke=\"#000000\" stroke-opacity=\"1\" stroke-width=\"5.12\"/>\n<circle clip-path=\"url(#clip720)\" cx=\"1806.73\" cy=\"155.698\" r=\"23\" fill=\"#009af9\" fill-rule=\"evenodd\" fill-opacity=\"1\" stroke=\"#000000\" stroke-opacity=\"1\" stroke-width=\"5.12\"/>\n<circle clip-path=\"url(#clip720)\" cx=\"1806.73\" cy=\"155.698\" r=\"23\" fill=\"#009af9\" fill-rule=\"evenodd\" fill-opacity=\"1\" stroke=\"#000000\" stroke-opacity=\"1\" stroke-width=\"5.12\"/>\n<circle clip-path=\"url(#clip720)\" cx=\"1806.73\" cy=\"155.698\" r=\"23\" fill=\"#009af9\" fill-rule=\"evenodd\" fill-opacity=\"1\" stroke=\"#000000\" stroke-opacity=\"1\" stroke-width=\"5.12\"/>\n<circle clip-path=\"url(#clip720)\" cx=\"1806.73\" cy=\"155.698\" r=\"23\" fill=\"#009af9\" fill-rule=\"evenodd\" fill-opacity=\"1\" stroke=\"#000000\" stroke-opacity=\"1\" stroke-width=\"5.12\"/>\n<circle clip-path=\"url(#clip720)\" cx=\"1806.73\" cy=\"155.698\" r=\"23\" fill=\"#009af9\" fill-rule=\"evenodd\" fill-opacity=\"1\" stroke=\"#000000\" stroke-opacity=\"1\" stroke-width=\"5.12\"/>\n<circle clip-path=\"url(#clip720)\" cx=\"1806.73\" cy=\"155.698\" r=\"23\" fill=\"#009af9\" fill-rule=\"evenodd\" fill-opacity=\"1\" stroke=\"#000000\" stroke-opacity=\"1\" stroke-width=\"5.12\"/>\n<circle clip-path=\"url(#clip720)\" cx=\"1806.73\" cy=\"155.698\" r=\"23\" fill=\"#009af9\" fill-rule=\"evenodd\" fill-opacity=\"1\" stroke=\"#000000\" stroke-opacity=\"1\" stroke-width=\"5.12\"/>\n<circle clip-path=\"url(#clip720)\" cx=\"1806.73\" cy=\"155.698\" r=\"23\" fill=\"#009af9\" fill-rule=\"evenodd\" fill-opacity=\"1\" stroke=\"#000000\" stroke-opacity=\"1\" stroke-width=\"5.12\"/>\n<circle clip-path=\"url(#clip720)\" cx=\"1806.73\" cy=\"155.698\" r=\"23\" fill=\"#009af9\" fill-rule=\"evenodd\" fill-opacity=\"1\" stroke=\"#000000\" stroke-opacity=\"1\" stroke-width=\"5.12\"/>\n<circle clip-path=\"url(#clip720)\" cx=\"1806.73\" cy=\"155.698\" r=\"23\" fill=\"#009af9\" fill-rule=\"evenodd\" fill-opacity=\"1\" stroke=\"#000000\" stroke-opacity=\"1\" stroke-width=\"5.12\"/>\n<circle clip-path=\"url(#clip720)\" cx=\"1806.73\" cy=\"155.698\" r=\"23\" fill=\"#009af9\" fill-rule=\"evenodd\" fill-opacity=\"1\" stroke=\"#000000\" stroke-opacity=\"1\" stroke-width=\"5.12\"/>\n<circle clip-path=\"url(#clip720)\" cx=\"1806.73\" cy=\"155.698\" r=\"23\" fill=\"#009af9\" fill-rule=\"evenodd\" fill-opacity=\"1\" stroke=\"#000000\" stroke-opacity=\"1\" stroke-width=\"5.12\"/>\n<circle clip-path=\"url(#clip720)\" cx=\"1806.73\" cy=\"155.698\" r=\"23\" fill=\"#009af9\" fill-rule=\"evenodd\" fill-opacity=\"1\" stroke=\"#000000\" stroke-opacity=\"1\" stroke-width=\"5.12\"/>\n<circle clip-path=\"url(#clip720)\" cx=\"1806.73\" cy=\"155.698\" r=\"23\" fill=\"#009af9\" fill-rule=\"evenodd\" fill-opacity=\"1\" stroke=\"#000000\" stroke-opacity=\"1\" stroke-width=\"5.12\"/>\n<circle clip-path=\"url(#clip720)\" cx=\"1806.73\" cy=\"155.698\" r=\"23\" fill=\"#009af9\" fill-rule=\"evenodd\" fill-opacity=\"1\" stroke=\"#000000\" stroke-opacity=\"1\" stroke-width=\"5.12\"/>\n<circle clip-path=\"url(#clip720)\" cx=\"1806.73\" cy=\"155.698\" r=\"23\" fill=\"#009af9\" fill-rule=\"evenodd\" fill-opacity=\"1\" stroke=\"#000000\" stroke-opacity=\"1\" stroke-width=\"5.12\"/>\n<circle clip-path=\"url(#clip720)\" cx=\"1806.73\" cy=\"155.698\" r=\"23\" fill=\"#009af9\" fill-rule=\"evenodd\" fill-opacity=\"1\" stroke=\"#000000\" stroke-opacity=\"1\" stroke-width=\"5.12\"/>\n<circle clip-path=\"url(#clip720)\" cx=\"1806.73\" cy=\"155.698\" r=\"23\" fill=\"#009af9\" fill-rule=\"evenodd\" fill-opacity=\"1\" stroke=\"#000000\" stroke-opacity=\"1\" stroke-width=\"5.12\"/>\n<circle clip-path=\"url(#clip720)\" cx=\"1806.73\" cy=\"155.698\" r=\"23\" fill=\"#009af9\" fill-rule=\"evenodd\" fill-opacity=\"1\" stroke=\"#000000\" stroke-opacity=\"1\" stroke-width=\"5.12\"/>\n<circle clip-path=\"url(#clip720)\" cx=\"1806.73\" cy=\"155.698\" r=\"23\" fill=\"#009af9\" fill-rule=\"evenodd\" fill-opacity=\"1\" stroke=\"#000000\" stroke-opacity=\"1\" stroke-width=\"5.12\"/>\n<circle clip-path=\"url(#clip720)\" cx=\"1806.73\" cy=\"155.698\" r=\"23\" fill=\"#009af9\" fill-rule=\"evenodd\" fill-opacity=\"1\" stroke=\"#000000\" stroke-opacity=\"1\" stroke-width=\"5.12\"/>\n<circle clip-path=\"url(#clip720)\" cx=\"1806.73\" cy=\"155.698\" r=\"23\" fill=\"#009af9\" fill-rule=\"evenodd\" fill-opacity=\"1\" stroke=\"#000000\" stroke-opacity=\"1\" stroke-width=\"5.12\"/>\n<circle clip-path=\"url(#clip720)\" cx=\"1806.73\" cy=\"155.698\" r=\"23\" fill=\"#009af9\" fill-rule=\"evenodd\" fill-opacity=\"1\" stroke=\"#000000\" stroke-opacity=\"1\" stroke-width=\"5.12\"/>\n<circle clip-path=\"url(#clip720)\" cx=\"1806.73\" cy=\"155.698\" r=\"23\" fill=\"#009af9\" fill-rule=\"evenodd\" fill-opacity=\"1\" stroke=\"#000000\" stroke-opacity=\"1\" stroke-width=\"5.12\"/>\n<circle clip-path=\"url(#clip720)\" cx=\"1806.73\" cy=\"155.698\" r=\"23\" fill=\"#009af9\" fill-rule=\"evenodd\" fill-opacity=\"1\" stroke=\"#000000\" stroke-opacity=\"1\" stroke-width=\"5.12\"/>\n<circle clip-path=\"url(#clip720)\" cx=\"1806.73\" cy=\"155.698\" r=\"23\" fill=\"#009af9\" fill-rule=\"evenodd\" fill-opacity=\"1\" stroke=\"#000000\" stroke-opacity=\"1\" stroke-width=\"5.12\"/>\n<circle clip-path=\"url(#clip720)\" cx=\"1806.73\" cy=\"155.698\" r=\"23\" fill=\"#009af9\" fill-rule=\"evenodd\" fill-opacity=\"1\" stroke=\"#000000\" stroke-opacity=\"1\" stroke-width=\"5.12\"/>\n<circle clip-path=\"url(#clip720)\" cx=\"1806.73\" cy=\"155.698\" r=\"23\" fill=\"#009af9\" fill-rule=\"evenodd\" fill-opacity=\"1\" stroke=\"#000000\" stroke-opacity=\"1\" stroke-width=\"5.12\"/>\n<circle clip-path=\"url(#clip720)\" cx=\"1806.73\" cy=\"155.698\" r=\"23\" fill=\"#009af9\" fill-rule=\"evenodd\" fill-opacity=\"1\" stroke=\"#000000\" stroke-opacity=\"1\" stroke-width=\"5.12\"/>\n<circle clip-path=\"url(#clip720)\" cx=\"1806.73\" cy=\"155.698\" r=\"23\" fill=\"#009af9\" fill-rule=\"evenodd\" fill-opacity=\"1\" stroke=\"#000000\" stroke-opacity=\"1\" stroke-width=\"5.12\"/>\n<circle clip-path=\"url(#clip720)\" cx=\"1806.73\" cy=\"155.698\" r=\"23\" fill=\"#009af9\" fill-rule=\"evenodd\" fill-opacity=\"1\" stroke=\"#000000\" stroke-opacity=\"1\" stroke-width=\"5.12\"/>\n<circle clip-path=\"url(#clip720)\" cx=\"1806.73\" cy=\"155.698\" r=\"23\" fill=\"#009af9\" fill-rule=\"evenodd\" fill-opacity=\"1\" stroke=\"#000000\" stroke-opacity=\"1\" stroke-width=\"5.12\"/>\n<circle clip-path=\"url(#clip720)\" cx=\"1806.73\" cy=\"155.698\" r=\"23\" fill=\"#009af9\" fill-rule=\"evenodd\" fill-opacity=\"1\" stroke=\"#000000\" stroke-opacity=\"1\" stroke-width=\"5.12\"/>\n<circle clip-path=\"url(#clip720)\" cx=\"1806.73\" cy=\"155.698\" r=\"23\" fill=\"#009af9\" fill-rule=\"evenodd\" fill-opacity=\"1\" stroke=\"#000000\" stroke-opacity=\"1\" stroke-width=\"5.12\"/>\n<circle clip-path=\"url(#clip720)\" cx=\"1806.73\" cy=\"155.698\" r=\"23\" fill=\"#009af9\" fill-rule=\"evenodd\" fill-opacity=\"1\" stroke=\"#000000\" stroke-opacity=\"1\" stroke-width=\"5.12\"/>\n<circle clip-path=\"url(#clip720)\" cx=\"1806.73\" cy=\"155.698\" r=\"23\" fill=\"#009af9\" fill-rule=\"evenodd\" fill-opacity=\"1\" stroke=\"#000000\" stroke-opacity=\"1\" stroke-width=\"5.12\"/>\n<circle clip-path=\"url(#clip720)\" cx=\"1806.73\" cy=\"155.698\" r=\"23\" fill=\"#009af9\" fill-rule=\"evenodd\" fill-opacity=\"1\" stroke=\"#000000\" stroke-opacity=\"1\" stroke-width=\"5.12\"/>\n<circle clip-path=\"url(#clip720)\" cx=\"1806.73\" cy=\"155.698\" r=\"23\" fill=\"#009af9\" fill-rule=\"evenodd\" fill-opacity=\"1\" stroke=\"#000000\" stroke-opacity=\"1\" stroke-width=\"5.12\"/>\n<circle clip-path=\"url(#clip720)\" cx=\"1806.73\" cy=\"155.698\" r=\"23\" fill=\"#009af9\" fill-rule=\"evenodd\" fill-opacity=\"1\" stroke=\"#000000\" stroke-opacity=\"1\" stroke-width=\"5.12\"/>\n<circle clip-path=\"url(#clip720)\" cx=\"1806.73\" cy=\"155.698\" r=\"23\" fill=\"#009af9\" fill-rule=\"evenodd\" fill-opacity=\"1\" stroke=\"#000000\" stroke-opacity=\"1\" stroke-width=\"5.12\"/>\n<circle clip-path=\"url(#clip720)\" cx=\"1806.73\" cy=\"155.698\" r=\"23\" fill=\"#009af9\" fill-rule=\"evenodd\" fill-opacity=\"1\" stroke=\"#000000\" stroke-opacity=\"1\" stroke-width=\"5.12\"/>\n<circle clip-path=\"url(#clip720)\" cx=\"1806.73\" cy=\"155.698\" r=\"23\" fill=\"#009af9\" fill-rule=\"evenodd\" fill-opacity=\"1\" stroke=\"#000000\" stroke-opacity=\"1\" stroke-width=\"5.12\"/>\n<circle clip-path=\"url(#clip720)\" cx=\"1806.73\" cy=\"155.698\" r=\"23\" fill=\"#009af9\" fill-rule=\"evenodd\" fill-opacity=\"1\" stroke=\"#000000\" stroke-opacity=\"1\" stroke-width=\"5.12\"/>\n<circle clip-path=\"url(#clip720)\" cx=\"1806.73\" cy=\"155.698\" r=\"23\" fill=\"#009af9\" fill-rule=\"evenodd\" fill-opacity=\"1\" stroke=\"#000000\" stroke-opacity=\"1\" stroke-width=\"5.12\"/>\n<circle clip-path=\"url(#clip720)\" cx=\"1806.73\" cy=\"155.698\" r=\"23\" fill=\"#009af9\" fill-rule=\"evenodd\" fill-opacity=\"1\" stroke=\"#000000\" stroke-opacity=\"1\" stroke-width=\"5.12\"/>\n<circle clip-path=\"url(#clip720)\" cx=\"1806.73\" cy=\"155.698\" r=\"23\" fill=\"#009af9\" fill-rule=\"evenodd\" fill-opacity=\"1\" stroke=\"#000000\" stroke-opacity=\"1\" stroke-width=\"5.12\"/>\n<circle clip-path=\"url(#clip720)\" cx=\"1806.73\" cy=\"155.698\" r=\"23\" fill=\"#009af9\" fill-rule=\"evenodd\" fill-opacity=\"1\" stroke=\"#000000\" stroke-opacity=\"1\" stroke-width=\"5.12\"/>\n<circle clip-path=\"url(#clip720)\" cx=\"1806.73\" cy=\"155.698\" r=\"23\" fill=\"#009af9\" fill-rule=\"evenodd\" fill-opacity=\"1\" stroke=\"#000000\" stroke-opacity=\"1\" stroke-width=\"5.12\"/>\n<circle clip-path=\"url(#clip720)\" cx=\"1806.73\" cy=\"155.698\" r=\"23\" fill=\"#009af9\" fill-rule=\"evenodd\" fill-opacity=\"1\" stroke=\"#000000\" stroke-opacity=\"1\" stroke-width=\"5.12\"/>\n<circle clip-path=\"url(#clip720)\" cx=\"1806.73\" cy=\"155.698\" r=\"23\" fill=\"#009af9\" fill-rule=\"evenodd\" fill-opacity=\"1\" stroke=\"#000000\" stroke-opacity=\"1\" stroke-width=\"5.12\"/>\n<circle clip-path=\"url(#clip720)\" cx=\"1806.73\" cy=\"155.698\" r=\"23\" fill=\"#009af9\" fill-rule=\"evenodd\" fill-opacity=\"1\" stroke=\"#000000\" stroke-opacity=\"1\" stroke-width=\"5.12\"/>\n<circle clip-path=\"url(#clip720)\" cx=\"1806.73\" cy=\"155.698\" r=\"23\" fill=\"#009af9\" fill-rule=\"evenodd\" fill-opacity=\"1\" stroke=\"#000000\" stroke-opacity=\"1\" stroke-width=\"5.12\"/>\n<circle clip-path=\"url(#clip720)\" cx=\"1806.73\" cy=\"155.698\" r=\"23\" fill=\"#009af9\" fill-rule=\"evenodd\" fill-opacity=\"1\" stroke=\"#000000\" stroke-opacity=\"1\" stroke-width=\"5.12\"/>\n<circle clip-path=\"url(#clip720)\" cx=\"1806.73\" cy=\"155.698\" r=\"23\" fill=\"#009af9\" fill-rule=\"evenodd\" fill-opacity=\"1\" stroke=\"#000000\" stroke-opacity=\"1\" stroke-width=\"5.12\"/>\n<circle clip-path=\"url(#clip720)\" cx=\"1806.73\" cy=\"155.698\" r=\"23\" fill=\"#009af9\" fill-rule=\"evenodd\" fill-opacity=\"1\" stroke=\"#000000\" stroke-opacity=\"1\" stroke-width=\"5.12\"/>\n<circle clip-path=\"url(#clip720)\" cx=\"1806.73\" cy=\"155.698\" r=\"23\" fill=\"#009af9\" fill-rule=\"evenodd\" fill-opacity=\"1\" stroke=\"#000000\" stroke-opacity=\"1\" stroke-width=\"5.12\"/>\n<circle clip-path=\"url(#clip720)\" cx=\"1806.73\" cy=\"155.698\" r=\"23\" fill=\"#009af9\" fill-rule=\"evenodd\" fill-opacity=\"1\" stroke=\"#000000\" stroke-opacity=\"1\" stroke-width=\"5.12\"/>\n<circle clip-path=\"url(#clip720)\" cx=\"1806.73\" cy=\"155.698\" r=\"23\" fill=\"#009af9\" fill-rule=\"evenodd\" fill-opacity=\"1\" stroke=\"#000000\" stroke-opacity=\"1\" stroke-width=\"5.12\"/>\n<circle clip-path=\"url(#clip720)\" cx=\"1806.73\" cy=\"155.698\" r=\"23\" fill=\"#009af9\" fill-rule=\"evenodd\" fill-opacity=\"1\" stroke=\"#000000\" stroke-opacity=\"1\" stroke-width=\"5.12\"/>\n<circle clip-path=\"url(#clip720)\" cx=\"1806.73\" cy=\"155.698\" r=\"23\" fill=\"#009af9\" fill-rule=\"evenodd\" fill-opacity=\"1\" stroke=\"#000000\" stroke-opacity=\"1\" stroke-width=\"5.12\"/>\n<circle clip-path=\"url(#clip720)\" cx=\"1806.73\" cy=\"155.698\" r=\"23\" fill=\"#009af9\" fill-rule=\"evenodd\" fill-opacity=\"1\" stroke=\"#000000\" stroke-opacity=\"1\" stroke-width=\"5.12\"/>\n<circle clip-path=\"url(#clip720)\" cx=\"1806.73\" cy=\"155.698\" r=\"23\" fill=\"#009af9\" fill-rule=\"evenodd\" fill-opacity=\"1\" stroke=\"#000000\" stroke-opacity=\"1\" stroke-width=\"5.12\"/>\n<circle clip-path=\"url(#clip720)\" cx=\"1806.73\" cy=\"155.698\" r=\"23\" fill=\"#009af9\" fill-rule=\"evenodd\" fill-opacity=\"1\" stroke=\"#000000\" stroke-opacity=\"1\" stroke-width=\"5.12\"/>\n<circle clip-path=\"url(#clip720)\" cx=\"1806.73\" cy=\"155.698\" r=\"23\" fill=\"#009af9\" fill-rule=\"evenodd\" fill-opacity=\"1\" stroke=\"#000000\" stroke-opacity=\"1\" stroke-width=\"5.12\"/>\n<circle clip-path=\"url(#clip720)\" cx=\"1806.73\" cy=\"155.698\" r=\"23\" fill=\"#009af9\" fill-rule=\"evenodd\" fill-opacity=\"1\" stroke=\"#000000\" stroke-opacity=\"1\" stroke-width=\"5.12\"/>\n<circle clip-path=\"url(#clip720)\" cx=\"1806.73\" cy=\"155.698\" r=\"23\" fill=\"#009af9\" fill-rule=\"evenodd\" fill-opacity=\"1\" stroke=\"#000000\" stroke-opacity=\"1\" stroke-width=\"5.12\"/>\n<circle clip-path=\"url(#clip720)\" cx=\"1806.73\" cy=\"155.698\" r=\"23\" fill=\"#009af9\" fill-rule=\"evenodd\" fill-opacity=\"1\" stroke=\"#000000\" stroke-opacity=\"1\" stroke-width=\"5.12\"/>\n<circle clip-path=\"url(#clip720)\" cx=\"1806.73\" cy=\"155.698\" r=\"23\" fill=\"#009af9\" fill-rule=\"evenodd\" fill-opacity=\"1\" stroke=\"#000000\" stroke-opacity=\"1\" stroke-width=\"5.12\"/>\n<circle clip-path=\"url(#clip720)\" cx=\"1806.73\" cy=\"155.698\" r=\"23\" fill=\"#009af9\" fill-rule=\"evenodd\" fill-opacity=\"1\" stroke=\"#000000\" stroke-opacity=\"1\" stroke-width=\"5.12\"/>\n<circle clip-path=\"url(#clip720)\" cx=\"1806.73\" cy=\"155.698\" r=\"23\" fill=\"#009af9\" fill-rule=\"evenodd\" fill-opacity=\"1\" stroke=\"#000000\" stroke-opacity=\"1\" stroke-width=\"5.12\"/>\n<circle clip-path=\"url(#clip720)\" cx=\"1806.73\" cy=\"155.698\" r=\"23\" fill=\"#009af9\" fill-rule=\"evenodd\" fill-opacity=\"1\" stroke=\"#000000\" stroke-opacity=\"1\" stroke-width=\"5.12\"/>\n<circle clip-path=\"url(#clip720)\" cx=\"1806.73\" cy=\"155.698\" r=\"23\" fill=\"#009af9\" fill-rule=\"evenodd\" fill-opacity=\"1\" stroke=\"#000000\" stroke-opacity=\"1\" stroke-width=\"5.12\"/>\n<circle clip-path=\"url(#clip720)\" cx=\"1806.73\" cy=\"155.698\" r=\"23\" fill=\"#009af9\" fill-rule=\"evenodd\" fill-opacity=\"1\" stroke=\"#000000\" stroke-opacity=\"1\" stroke-width=\"5.12\"/>\n<circle clip-path=\"url(#clip720)\" cx=\"1806.73\" cy=\"155.698\" r=\"23\" fill=\"#009af9\" fill-rule=\"evenodd\" fill-opacity=\"1\" stroke=\"#000000\" stroke-opacity=\"1\" stroke-width=\"5.12\"/>\n<circle clip-path=\"url(#clip720)\" cx=\"1806.73\" cy=\"155.698\" r=\"23\" fill=\"#009af9\" fill-rule=\"evenodd\" fill-opacity=\"1\" stroke=\"#000000\" stroke-opacity=\"1\" stroke-width=\"5.12\"/>\n<circle clip-path=\"url(#clip720)\" cx=\"1806.73\" cy=\"155.698\" r=\"23\" fill=\"#009af9\" fill-rule=\"evenodd\" fill-opacity=\"1\" stroke=\"#000000\" stroke-opacity=\"1\" stroke-width=\"5.12\"/>\n<circle clip-path=\"url(#clip720)\" cx=\"1806.73\" cy=\"155.698\" r=\"23\" fill=\"#009af9\" fill-rule=\"evenodd\" fill-opacity=\"1\" stroke=\"#000000\" stroke-opacity=\"1\" stroke-width=\"5.12\"/>\n<circle clip-path=\"url(#clip720)\" cx=\"1806.73\" cy=\"155.698\" r=\"23\" fill=\"#009af9\" fill-rule=\"evenodd\" fill-opacity=\"1\" stroke=\"#000000\" stroke-opacity=\"1\" stroke-width=\"5.12\"/>\n<circle clip-path=\"url(#clip720)\" cx=\"1806.73\" cy=\"155.698\" r=\"23\" fill=\"#009af9\" fill-rule=\"evenodd\" fill-opacity=\"1\" stroke=\"#000000\" stroke-opacity=\"1\" stroke-width=\"5.12\"/>\n<circle clip-path=\"url(#clip720)\" cx=\"1806.73\" cy=\"155.698\" r=\"23\" fill=\"#009af9\" fill-rule=\"evenodd\" fill-opacity=\"1\" stroke=\"#000000\" stroke-opacity=\"1\" stroke-width=\"5.12\"/>\n<circle clip-path=\"url(#clip720)\" cx=\"1806.73\" cy=\"155.698\" r=\"23\" fill=\"#009af9\" fill-rule=\"evenodd\" fill-opacity=\"1\" stroke=\"#000000\" stroke-opacity=\"1\" stroke-width=\"5.12\"/>\n<circle clip-path=\"url(#clip720)\" cx=\"1806.73\" cy=\"155.698\" r=\"23\" fill=\"#009af9\" fill-rule=\"evenodd\" fill-opacity=\"1\" stroke=\"#000000\" stroke-opacity=\"1\" stroke-width=\"5.12\"/>\n<circle clip-path=\"url(#clip720)\" cx=\"1806.73\" cy=\"155.698\" r=\"23\" fill=\"#009af9\" fill-rule=\"evenodd\" fill-opacity=\"1\" stroke=\"#000000\" stroke-opacity=\"1\" stroke-width=\"5.12\"/>\n<circle clip-path=\"url(#clip720)\" cx=\"1806.73\" cy=\"155.698\" r=\"23\" fill=\"#009af9\" fill-rule=\"evenodd\" fill-opacity=\"1\" stroke=\"#000000\" stroke-opacity=\"1\" stroke-width=\"5.12\"/>\n<circle clip-path=\"url(#clip720)\" cx=\"1806.73\" cy=\"155.698\" r=\"23\" fill=\"#009af9\" fill-rule=\"evenodd\" fill-opacity=\"1\" stroke=\"#000000\" stroke-opacity=\"1\" stroke-width=\"5.12\"/>\n<circle clip-path=\"url(#clip720)\" cx=\"1806.73\" cy=\"155.698\" r=\"23\" fill=\"#009af9\" fill-rule=\"evenodd\" fill-opacity=\"1\" stroke=\"#000000\" stroke-opacity=\"1\" stroke-width=\"5.12\"/>\n<circle clip-path=\"url(#clip720)\" cx=\"1806.73\" cy=\"155.698\" r=\"23\" fill=\"#009af9\" fill-rule=\"evenodd\" fill-opacity=\"1\" stroke=\"#000000\" stroke-opacity=\"1\" stroke-width=\"5.12\"/>\n<circle clip-path=\"url(#clip720)\" cx=\"1806.73\" cy=\"155.698\" r=\"23\" fill=\"#009af9\" fill-rule=\"evenodd\" fill-opacity=\"1\" stroke=\"#000000\" stroke-opacity=\"1\" stroke-width=\"5.12\"/>\n<circle clip-path=\"url(#clip720)\" cx=\"1806.73\" cy=\"155.698\" r=\"23\" fill=\"#009af9\" fill-rule=\"evenodd\" fill-opacity=\"1\" stroke=\"#000000\" stroke-opacity=\"1\" stroke-width=\"5.12\"/>\n<circle clip-path=\"url(#clip720)\" cx=\"1806.73\" cy=\"155.698\" r=\"23\" fill=\"#009af9\" fill-rule=\"evenodd\" fill-opacity=\"1\" stroke=\"#000000\" stroke-opacity=\"1\" stroke-width=\"5.12\"/>\n<circle clip-path=\"url(#clip720)\" cx=\"1806.73\" cy=\"155.698\" r=\"23\" fill=\"#009af9\" fill-rule=\"evenodd\" fill-opacity=\"1\" stroke=\"#000000\" stroke-opacity=\"1\" stroke-width=\"5.12\"/>\n<circle clip-path=\"url(#clip720)\" cx=\"1806.73\" cy=\"155.698\" r=\"23\" fill=\"#009af9\" fill-rule=\"evenodd\" fill-opacity=\"1\" stroke=\"#000000\" stroke-opacity=\"1\" stroke-width=\"5.12\"/>\n<circle clip-path=\"url(#clip720)\" cx=\"1806.73\" cy=\"155.698\" r=\"23\" fill=\"#009af9\" fill-rule=\"evenodd\" fill-opacity=\"1\" stroke=\"#000000\" stroke-opacity=\"1\" stroke-width=\"5.12\"/>\n<circle clip-path=\"url(#clip720)\" cx=\"1806.73\" cy=\"155.698\" r=\"23\" fill=\"#009af9\" fill-rule=\"evenodd\" fill-opacity=\"1\" stroke=\"#000000\" stroke-opacity=\"1\" stroke-width=\"5.12\"/>\n<circle clip-path=\"url(#clip720)\" cx=\"1806.73\" cy=\"155.698\" r=\"23\" fill=\"#009af9\" fill-rule=\"evenodd\" fill-opacity=\"1\" stroke=\"#000000\" stroke-opacity=\"1\" stroke-width=\"5.12\"/>\n<circle clip-path=\"url(#clip720)\" cx=\"1806.73\" cy=\"155.698\" r=\"23\" fill=\"#009af9\" fill-rule=\"evenodd\" fill-opacity=\"1\" stroke=\"#000000\" stroke-opacity=\"1\" stroke-width=\"5.12\"/>\n<circle clip-path=\"url(#clip720)\" cx=\"1806.73\" cy=\"155.698\" r=\"23\" fill=\"#009af9\" fill-rule=\"evenodd\" fill-opacity=\"1\" stroke=\"#000000\" stroke-opacity=\"1\" stroke-width=\"5.12\"/>\n<path clip-path=\"url(#clip720)\" d=\"M 0 0 M1927.9 139.552 L1927.9 144.112 Q1925.24 142.839 1922.88 142.214 Q1920.51 141.589 1918.32 141.589 Q1914.5 141.589 1912.41 143.07 Q1910.35 144.552 1910.35 147.283 Q1910.35 149.575 1911.72 150.755 Q1913.11 151.913 1916.95 152.63 L1919.77 153.209 Q1925.01 154.205 1927.48 156.728 Q1929.98 159.228 1929.98 163.441 Q1929.98 168.464 1926.6 171.056 Q1923.25 173.649 1916.74 173.649 Q1914.29 173.649 1911.51 173.093 Q1908.76 172.538 1905.79 171.45 L1905.79 166.635 Q1908.64 168.232 1911.37 169.042 Q1914.1 169.853 1916.74 169.853 Q1920.75 169.853 1922.92 168.279 Q1925.1 166.704 1925.1 163.788 Q1925.1 161.242 1923.52 159.806 Q1921.97 158.371 1918.41 157.654 L1915.56 157.098 Q1910.33 156.056 1907.99 153.834 Q1905.65 151.612 1905.65 147.654 Q1905.65 143.07 1908.87 140.431 Q1912.11 137.793 1917.78 137.793 Q1920.21 137.793 1922.74 138.232 Q1925.26 138.672 1927.9 139.552 Z\" fill=\"#000000\" fill-rule=\"evenodd\" fill-opacity=\"1\" /><path clip-path=\"url(#clip720)\" d=\"M 0 0 M1946.23 159.945 Q1941.07 159.945 1939.08 161.126 Q1937.09 162.306 1937.09 165.154 Q1937.09 167.422 1938.57 168.765 Q1940.07 170.084 1942.64 170.084 Q1946.19 170.084 1948.32 167.584 Q1950.47 165.061 1950.47 160.894 L1950.47 159.945 L1946.23 159.945 M1954.73 158.186 L1954.73 172.978 L1950.47 172.978 L1950.47 169.042 Q1949.01 171.403 1946.83 172.538 Q1944.66 173.649 1941.51 173.649 Q1937.53 173.649 1935.17 171.427 Q1932.83 169.181 1932.83 165.431 Q1932.83 161.056 1935.75 158.834 Q1938.69 156.612 1944.5 156.612 L1950.47 156.612 L1950.47 156.195 Q1950.47 153.255 1948.52 151.658 Q1946.6 150.038 1943.11 150.038 Q1940.89 150.038 1938.78 150.57 Q1936.67 151.103 1934.73 152.167 L1934.73 148.232 Q1937.07 147.33 1939.26 146.89 Q1941.46 146.427 1943.55 146.427 Q1949.17 146.427 1951.95 149.343 Q1954.73 152.26 1954.73 158.186 Z\" fill=\"#000000\" fill-rule=\"evenodd\" fill-opacity=\"1\" /><path clip-path=\"url(#clip720)\" d=\"M 0 0 M1979.38 152.029 Q1980.98 149.158 1983.2 147.793 Q1985.42 146.427 1988.43 146.427 Q1992.48 146.427 1994.68 149.274 Q1996.88 152.098 1996.88 157.329 L1996.88 172.978 L1992.6 172.978 L1992.6 157.468 Q1992.6 153.742 1991.28 151.936 Q1989.96 150.13 1987.25 150.13 Q1983.94 150.13 1982.02 152.33 Q1980.1 154.529 1980.1 158.325 L1980.1 172.978 L1975.82 172.978 L1975.82 157.468 Q1975.82 153.718 1974.5 151.936 Q1973.18 150.13 1970.42 150.13 Q1967.16 150.13 1965.24 152.353 Q1963.32 154.552 1963.32 158.325 L1963.32 172.978 L1959.03 172.978 L1959.03 147.052 L1963.32 147.052 L1963.32 151.08 Q1964.77 148.695 1966.81 147.561 Q1968.85 146.427 1971.65 146.427 Q1974.47 146.427 1976.44 147.862 Q1978.43 149.297 1979.38 152.029 Z\" fill=\"#000000\" fill-rule=\"evenodd\" fill-opacity=\"1\" /><path clip-path=\"url(#clip720)\" d=\"M 0 0 M2005.47 169.089 L2005.47 182.839 L2001.19 182.839 L2001.19 147.052 L2005.47 147.052 L2005.47 150.987 Q2006.81 148.672 2008.85 147.561 Q2010.91 146.427 2013.75 146.427 Q2018.48 146.427 2021.42 150.177 Q2024.38 153.927 2024.38 160.038 Q2024.38 166.149 2021.42 169.899 Q2018.48 173.649 2013.75 173.649 Q2010.91 173.649 2008.85 172.538 Q2006.81 171.403 2005.47 169.089 M2019.96 160.038 Q2019.96 155.339 2018.01 152.677 Q2016.09 149.992 2012.71 149.992 Q2009.33 149.992 2007.39 152.677 Q2005.47 155.339 2005.47 160.038 Q2005.47 164.737 2007.39 167.422 Q2009.33 170.084 2012.71 170.084 Q2016.09 170.084 2018.01 167.422 Q2019.96 164.737 2019.96 160.038 Z\" fill=\"#000000\" fill-rule=\"evenodd\" fill-opacity=\"1\" /><path clip-path=\"url(#clip720)\" d=\"M 0 0 M2028.85 136.959 L2033.11 136.959 L2033.11 172.978 L2028.85 172.978 L2028.85 136.959 Z\" fill=\"#000000\" fill-rule=\"evenodd\" fill-opacity=\"1\" /><path clip-path=\"url(#clip720)\" d=\"M 0 0 M2059.75 158.95 L2059.75 161.033 L2040.17 161.033 Q2040.44 165.431 2042.81 167.746 Q2045.19 170.038 2049.43 170.038 Q2051.88 170.038 2054.17 169.436 Q2056.49 168.834 2058.75 167.63 L2058.75 171.658 Q2056.46 172.63 2054.06 173.14 Q2051.65 173.649 2049.17 173.649 Q2042.97 173.649 2039.33 170.038 Q2035.72 166.427 2035.72 160.269 Q2035.72 153.904 2039.15 150.177 Q2042.6 146.427 2048.43 146.427 Q2053.66 146.427 2056.69 149.806 Q2059.75 153.163 2059.75 158.95 M2055.49 157.7 Q2055.44 154.205 2053.52 152.121 Q2051.63 150.038 2048.48 150.038 Q2044.91 150.038 2042.76 152.052 Q2040.63 154.066 2040.31 157.723 L2055.49 157.7 Z\" fill=\"#000000\" fill-rule=\"evenodd\" fill-opacity=\"1\" /><path clip-path=\"url(#clip720)\" d=\"M 0 0 M2081.28 150.987 L2081.28 136.959 L2085.54 136.959 L2085.54 172.978 L2081.28 172.978 L2081.28 169.089 Q2079.94 171.403 2077.88 172.538 Q2075.84 173.649 2072.97 173.649 Q2068.27 173.649 2065.31 169.899 Q2062.37 166.149 2062.37 160.038 Q2062.37 153.927 2065.31 150.177 Q2068.27 146.427 2072.97 146.427 Q2075.84 146.427 2077.88 147.561 Q2079.94 148.672 2081.28 150.987 M2066.76 160.038 Q2066.76 164.737 2068.69 167.422 Q2070.63 170.084 2074.01 170.084 Q2077.39 170.084 2079.33 167.422 Q2081.28 164.737 2081.28 160.038 Q2081.28 155.339 2079.33 152.677 Q2077.39 149.992 2074.01 149.992 Q2070.63 149.992 2068.69 152.677 Q2066.76 155.339 2066.76 160.038 Z\" fill=\"#000000\" fill-rule=\"evenodd\" fill-opacity=\"1\" /><path clip-path=\"url(#clip720)\" d=\"M 0 0 M2109.19 169.089 L2109.19 182.839 L2104.91 182.839 L2104.91 147.052 L2109.19 147.052 L2109.19 150.987 Q2110.54 148.672 2112.57 147.561 Q2114.63 146.427 2117.48 146.427 Q2122.2 146.427 2125.14 150.177 Q2128.11 153.927 2128.11 160.038 Q2128.11 166.149 2125.14 169.899 Q2122.2 173.649 2117.48 173.649 Q2114.63 173.649 2112.57 172.538 Q2110.54 171.403 2109.19 169.089 M2123.68 160.038 Q2123.68 155.339 2121.74 152.677 Q2119.82 149.992 2116.44 149.992 Q2113.06 149.992 2111.12 152.677 Q2109.19 155.339 2109.19 160.038 Q2109.19 164.737 2111.12 167.422 Q2113.06 170.084 2116.44 170.084 Q2119.82 170.084 2121.74 167.422 Q2123.68 164.737 2123.68 160.038 Z\" fill=\"#000000\" fill-rule=\"evenodd\" fill-opacity=\"1\" /><path clip-path=\"url(#clip720)\" d=\"M 0 0 M2142.62 150.038 Q2139.19 150.038 2137.2 152.723 Q2135.21 155.385 2135.21 160.038 Q2135.21 164.691 2137.18 167.376 Q2139.17 170.038 2142.62 170.038 Q2146.02 170.038 2148.01 167.353 Q2150 164.667 2150 160.038 Q2150 155.431 2148.01 152.746 Q2146.02 150.038 2142.62 150.038 M2142.62 146.427 Q2148.18 146.427 2151.35 150.038 Q2154.52 153.649 2154.52 160.038 Q2154.52 166.404 2151.35 170.038 Q2148.18 173.649 2142.62 173.649 Q2137.04 173.649 2133.87 170.038 Q2130.72 166.404 2130.72 160.038 Q2130.72 153.649 2133.87 150.038 Q2137.04 146.427 2142.62 146.427 Z\" fill=\"#000000\" fill-rule=\"evenodd\" fill-opacity=\"1\" /><path clip-path=\"url(#clip720)\" d=\"M 0 0 M2158.99 147.052 L2163.24 147.052 L2163.24 172.978 L2158.99 172.978 L2158.99 147.052 M2158.99 136.959 L2163.24 136.959 L2163.24 142.353 L2158.99 142.353 L2158.99 136.959 Z\" fill=\"#000000\" fill-rule=\"evenodd\" fill-opacity=\"1\" /><path clip-path=\"url(#clip720)\" d=\"M 0 0 M2189.26 157.329 L2189.26 172.978 L2185 172.978 L2185 157.468 Q2185 153.788 2183.57 151.959 Q2182.13 150.13 2179.26 150.13 Q2175.81 150.13 2173.82 152.33 Q2171.83 154.529 2171.83 158.325 L2171.83 172.978 L2167.55 172.978 L2167.55 147.052 L2171.83 147.052 L2171.83 151.08 Q2173.36 148.742 2175.42 147.584 Q2177.5 146.427 2180.21 146.427 Q2184.68 146.427 2186.97 149.205 Q2189.26 151.959 2189.26 157.329 Z\" fill=\"#000000\" fill-rule=\"evenodd\" fill-opacity=\"1\" /><path clip-path=\"url(#clip720)\" d=\"M 0 0 M2197.94 139.691 L2197.94 147.052 L2206.72 147.052 L2206.72 150.362 L2197.94 150.362 L2197.94 164.436 Q2197.94 167.607 2198.8 168.51 Q2199.68 169.413 2202.34 169.413 L2206.72 169.413 L2206.72 172.978 L2202.34 172.978 Q2197.41 172.978 2195.54 171.149 Q2193.66 169.297 2193.66 164.436 L2193.66 150.362 L2190.54 150.362 L2190.54 147.052 L2193.66 147.052 L2193.66 139.691 L2197.94 139.691 Z\" fill=\"#000000\" fill-rule=\"evenodd\" fill-opacity=\"1\" /><path clip-path=\"url(#clip720)\" d=\"M 0 0 M2227.71 147.816 L2227.71 151.843 Q2225.91 150.917 2223.96 150.455 Q2222.02 149.992 2219.93 149.992 Q2216.76 149.992 2215.17 150.964 Q2213.59 151.936 2213.59 153.88 Q2213.59 155.362 2214.73 156.218 Q2215.86 157.052 2219.29 157.816 L2220.74 158.14 Q2225.28 159.112 2227.18 160.894 Q2229.1 162.654 2229.1 165.825 Q2229.1 169.436 2226.23 171.542 Q2223.38 173.649 2218.38 173.649 Q2216.3 173.649 2214.03 173.232 Q2211.79 172.839 2209.29 172.028 L2209.29 167.63 Q2211.65 168.857 2213.94 169.482 Q2216.23 170.084 2218.48 170.084 Q2221.49 170.084 2223.11 169.066 Q2224.73 168.024 2224.73 166.149 Q2224.73 164.413 2223.55 163.487 Q2222.39 162.561 2218.43 161.704 L2216.95 161.357 Q2212.99 160.524 2211.23 158.811 Q2209.47 157.075 2209.47 154.066 Q2209.47 150.408 2212.06 148.418 Q2214.66 146.427 2219.43 146.427 Q2221.79 146.427 2223.87 146.774 Q2225.95 147.121 2227.71 147.816 Z\" fill=\"#000000\" fill-rule=\"evenodd\" fill-opacity=\"1\" /></svg>\n"
     },
     "metadata": {},
     "execution_count": 100
    }
   ],
   "source": [
    "x = rand(Uniform(-5, 5), 100);\n",
    "y = wave(x);\n",
    "model = random_Linear_network(Float64, 1, 64);\n",
    "scatter(x,y,label=\"Sampled points\")"
   ]
  },
  {
   "cell_type": "code",
   "execution_count": 101,
   "metadata": {},
   "outputs": [
    {
     "output_type": "execute_result",
     "data": {
      "text/plain": [
       "3-element Array{Linear{Float64},1}:\n",
       " Linear{Float64}([1.4268154789341962; 1.3582238698094584; … ; -1.1368295798757841; -0.0017047136000044214], [-0.5170164958145869, -0.42961830735603845, 0.6239190298393044, -0.33273222985962214, 1.7871997357930949, 0.05259291426801971, -2.2777485800944888, -1.0854187083709324, 0.8993498505177054, -1.1082084350211445  …  -1.78305988631189, -0.12326983969803651, 0.728685182747292, 0.21754747464483198, 0.21578540500663773, 0.37158449229256973, 0.11342855583313473, 0.4438787616092556, -2.1479756153615623, 0.29179739364237406], [0.0, 0.0, 0.0, 0.0, 0.0, 0.0, 0.0, 0.0, 0.0, 0.0  …  0.0, 0.0, 0.0, 0.0, 0.0, 0.0, 0.0, 0.0, 0.0, 0.0], [0.0, 0.0, 0.0, 0.0, 0.0, 0.0, 0.0, 0.0, 0.0, 0.0  …  0.0, 0.0, 0.0, 0.0, 0.0, 0.0, 0.0, 0.0, 0.0, 0.0])\n",
       " Linear{Float64}([0.040081407962829996 -0.8741057943651535 … -0.9954613941558377 0.5118397316828821; -1.807934128484342 -0.19759920063495687 … -1.0447988787250362 1.0598757971366333; … ; -0.9965382273035793 0.33714170588624853 … -0.03905899679730516 -1.4166077355625764; 0.2556021499043302 0.3832693899989593 … 1.5369533204133683 -0.4123537152902213], [1.3035720977732508, -0.1967323342432823, 0.961043139181104, 1.102798133153748, -0.48259204362188335, -1.7609959980232328, -0.20945386408412053, 1.6337757888893423, -0.26956476000078, 0.9275669907366696  …  2.5385314365601523, -0.4732612204733915, 0.9778283149424997, 1.1634820654399962, -0.12601106718528193, -1.9944215254713096, 0.4900735336395614, -0.00916159707159547, 0.5663408520197585, -0.06308025319498646], [0.0, 0.0, 0.0, 0.0, 0.0, 0.0, 0.0, 0.0, 0.0, 0.0  …  0.0, 0.0, 0.0, 0.0, 0.0, 0.0, 0.0, 0.0, 0.0, 0.0], [0.0, 0.0, 0.0, 0.0, 0.0, 0.0, 0.0, 0.0, 0.0, 0.0  …  0.0, 0.0, 0.0, 0.0, 0.0, 0.0, 0.0, 0.0, 0.0, 0.0])\n",
       " Linear{Float64}([-0.20594986964191045 -0.4187023870201484 … 0.2776967570056671 0.16933219867053867], [-1.829855506735831], [0.0], [0.0])"
      ]
     },
     "metadata": {},
     "execution_count": 101
    }
   ],
   "source": [
    "model"
   ]
  },
  {
   "cell_type": "code",
   "execution_count": 102,
   "metadata": {},
   "outputs": [],
   "source": [
    "@i function loss!(out!::T, x!::AbstractVector{T}, y!::AbstractVector{T},z!::AbstractVector{T},model::LinearNetwork) where T\n",
    "     for i = 1:length(x!)\n",
    "        @routine begin\n",
    "            @zeros T anc1 \n",
    "            Linear_network!(x[i:i], model,z!)\n",
    "            anc1 += (z![1]-y![i])^2\n",
    "            (~Linear_network!)(x[i:i], model,z!) \n",
    "        end\n",
    "        out! += anc1\n",
    "        ~@routine\n",
    "        @safe z!.= zero(T)\n",
    "    end\n",
    "end"
   ]
  },
  {
   "cell_type": "code",
   "execution_count": 103,
   "metadata": {},
   "outputs": [
    {
     "output_type": "execute_result",
     "data": {
      "text/plain": [
       "loss2 (generic function with 1 method)"
      ]
     },
     "metadata": {},
     "execution_count": 103
    }
   ],
   "source": [
    "function loss2(out::T, x::AbstractVector{T}, y::AbstractVector{T},model::LinearNetwork) where T\n",
    "     for i = 1:length(x)\n",
    "        z=[0.0]\n",
    "        _,model,z=Linear_network!(x[i:i], model,z)\n",
    "        out += (z[1]-y[i])^2\n",
    "        _,model,z=(~Linear_network!)(x[i:i], model,z)\n",
    "    end\n",
    "    return out\n",
    "end"
   ]
  },
  {
   "cell_type": "code",
   "execution_count": 104,
   "metadata": {
    "tags": []
   },
   "outputs": [
    {
     "output_type": "execute_result",
     "data": {
      "text/plain": [
       "956.283607626004"
      ]
     },
     "metadata": {},
     "execution_count": 104
    }
   ],
   "source": [
    "out=0.0;\n",
    "\n",
    "out=loss2(out, x, y,model);\n",
    "\n",
    "out"
   ]
  },
  {
   "cell_type": "code",
   "execution_count": 105,
   "metadata": {},
   "outputs": [],
   "source": [
    "for i=1:length(model)\n",
    "    model[i].y1.=0.0;\n",
    "    model[i].y1a.=0.0;\n",
    "end"
   ]
  },
  {
   "cell_type": "code",
   "execution_count": 106,
   "metadata": {
    "tags": []
   },
   "outputs": [
    {
     "output_type": "execute_result",
     "data": {
      "text/plain": [
       "956.283607626004"
      ]
     },
     "metadata": {},
     "execution_count": 106
    }
   ],
   "source": [
    "out=0.0;\n",
    "z=[0.0];\n",
    "\n",
    "out, x, y,z,model=loss!(out, x, y,z,model);\n",
    "out"
   ]
  },
  {
   "cell_type": "code",
   "execution_count": 107,
   "metadata": {},
   "outputs": [
    {
     "output_type": "execute_result",
     "data": {
      "text/plain": [
       "-5.897504706808832e-13"
      ]
     },
     "metadata": {},
     "execution_count": 107
    }
   ],
   "source": [
    "\n",
    "out, x, y,z,model=(~loss!)(out, x, y,z,model);\n",
    "out"
   ]
  },
  {
   "cell_type": "code",
   "execution_count": 108,
   "metadata": {},
   "outputs": [
    {
     "output_type": "error",
     "ename": "LoadError",
     "evalue": "MethodError: no method matching Linear_network!(::Array{Float64,1}, ::Array{Linear{GVar{Float64,Float64}},1}, ::Array{GVar{Float64,Float64},1})\nClosest candidates are:\n  Linear_network!(::AbstractArray{T,1}, !Matched::Array{Linear{T},1}, !Matched::AbstractArray{T,1}) where T at In[86]:1",
     "traceback": [
      "MethodError: no method matching Linear_network!(::Array{Float64,1}, ::Array{Linear{GVar{Float64,Float64}},1}, ::Array{GVar{Float64,Float64},1})\nClosest candidates are:\n  Linear_network!(::AbstractArray{T,1}, !Matched::Array{Linear{T},1}, !Matched::AbstractArray{T,1}) where T at In[86]:1",
      "",
      "Stacktrace:",
      " [1] (::Inv{typeof(loss!)})(::GVar{Float64,Float64}, ::Array{GVar{Float64,Float64},1}, ::Array{GVar{Float64,Float64},1}, ::Array{GVar{Float64,Float64},1}, ::Array{Linear{GVar{Float64,Float64}},1}) at .\\In[102]:5",
      " [2] (::NGrad{1,typeof(loss!)})(::Float64, ::Vararg{Any,N} where N; iloss::Int64, kwargs::Base.Iterators.Pairs{Union{},Union{},Tuple{},NamedTuple{(),Tuple{}}}) at f:\\我的坚果云\\Anusha Nagabandi\\META\\NiLang.jl-master\\NiLang.jl-master\\src\\autodiff\\gradfunc.jl:48",
      " [3] top-level scope at In[108]:2",
      " [4] include_string(::Function, ::Module, ::String, ::String) at .\\loading.jl:1091"
     ]
    }
   ],
   "source": [
    "\n",
    "gout, gx, gy,gz,gmodel= NiLang.AD.Grad(loss!)(out, x, y, z, model;iloss=1)"
   ]
  }
 ]
}